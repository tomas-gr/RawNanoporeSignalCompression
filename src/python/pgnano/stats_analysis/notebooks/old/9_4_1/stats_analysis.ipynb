{
 "cells": [
  {
   "cell_type": "code",
   "execution_count": 1,
   "metadata": {},
   "outputs": [],
   "source": [
    "import pod5\n",
    "import numpy as np\n",
    "import matplotlib.pyplot as plt\n",
    "import pgnano.stats_analysis.primitives as pgnprim\n",
    "import pgnano.stats_analysis.models as pgnmodels\n",
    "from pgnano.stats_analysis.map_reduce_stats import abstract_mapper, run_mapper, abstract_reducer, run_mapper_reducer, ReducerReportResult, MapperReportResult\n",
    "import pgnano.stats_analysis.jupyter_data_preparation as pgndata\n",
    "import os\n",
    "from pgnano.constants.constants import stats_analysis_root_path\n",
    "from typing import List\n",
    "import statistics as st\n",
    "import multiprocessing as mp\n",
    "from collections import namedtuple\n",
    "from tqdm.auto import tqdm\n",
    "from sklearn.linear_model import LinearRegression\n",
    "from sklearn.neural_network import MLPRegressor\n",
    "from pgnano.stats_analysis.abstract_plotter import abstract_plot\n",
    "from pgnano.stats_analysis.models import SklearnModel\n",
    "from pgnano.stats_analysis.parameter_search import linear_parameter_search"
   ]
  },
  {
   "cell_type": "code",
   "execution_count": 2,
   "metadata": {},
   "outputs": [
    {
     "name": "stdout",
     "output_type": "stream",
     "text": [
      "['/data/datananoraw/data_analysis/9_4_1/0792a506-batch11.pod5', '/data/datananoraw/data_analysis/9_4_1/13ccd92f-batch33.pod5', '/data/datananoraw/data_analysis/9_4_1/16723ac7-batch20.pod5', '/data/datananoraw/data_analysis/9_4_1/23a8b088-batch20.pod5', '/data/datananoraw/data_analysis/9_4_1/3824828f-batch12.pod5', '/data/datananoraw/data_analysis/9_4_1/5524fc3c-batch13.pod5', '/data/datananoraw/data_analysis/9_4_1/6f82bcb6-batch28.pod5', '/data/datananoraw/data_analysis/9_4_1/93f9b40d-batch20.pod5', '/data/datananoraw/data_analysis/9_4_1/9a6e2862-batch36.pod5', '/data/datananoraw/data_analysis/9_4_1/af5138bf-batch7.pod5', '/data/datananoraw/data_analysis/9_4_1/b8feca29-batch25.pod5', '/data/datananoraw/data_analysis/9_4_1/bb5fa810-batch19.pod5', '/data/datananoraw/data_analysis/9_4_1/df68bb8f-batch3.pod5', '/data/datananoraw/data_analysis/9_4_1/e1e34260-batch11.pod5', '/data/datananoraw/data_analysis/9_4_1/e2564fd3-batch22.pod5']\n",
      "[('/data/datananoraw/data_analysis/9_4_1/af5138bf-batch7.pod5', 96899720), ('/data/datananoraw/data_analysis/9_4_1/e1e34260-batch11.pod5', 200653280), ('/data/datananoraw/data_analysis/9_4_1/5524fc3c-batch13.pod5', 273360512), ('/data/datananoraw/data_analysis/9_4_1/3824828f-batch12.pod5', 362316152), ('/data/datananoraw/data_analysis/9_4_1/0792a506-batch11.pod5', 474664224), ('/data/datananoraw/data_analysis/9_4_1/23a8b088-batch20.pod5', 585946000), ('/data/datananoraw/data_analysis/9_4_1/bb5fa810-batch19.pod5', 673935376), ('/data/datananoraw/data_analysis/9_4_1/9a6e2862-batch36.pod5', 812507192), ('/data/datananoraw/data_analysis/9_4_1/16723ac7-batch20.pod5', 929521944), ('/data/datananoraw/data_analysis/9_4_1/6f82bcb6-batch28.pod5', 987275936), ('/data/datananoraw/data_analysis/9_4_1/b8feca29-batch25.pod5', 1122778968), ('/data/datananoraw/data_analysis/9_4_1/e2564fd3-batch22.pod5', 1281911520), ('/data/datananoraw/data_analysis/9_4_1/93f9b40d-batch20.pod5', 1308680600), ('/data/datananoraw/data_analysis/9_4_1/df68bb8f-batch3.pod5', 1466976344), ('/data/datananoraw/data_analysis/9_4_1/13ccd92f-batch33.pod5', 1529733048)]\n"
     ]
    }
   ],
   "source": [
    "signal_data, chunked_data = pgndata.flatten_sample_data(pgnprim.PGPoreType.P9_4_1, 100)"
   ]
  },
  {
   "cell_type": "code",
   "execution_count": 3,
   "metadata": {},
   "outputs": [
    {
     "data": {
      "application/vnd.jupyter.widget-view+json": {
       "model_id": "11da7d5139a142f3929cf0f3f4fb94af",
       "version_major": 2,
       "version_minor": 0
      },
      "text/plain": [
       "  0%|          | 0/100 [00:00<?, ?it/s]"
      ]
     },
     "metadata": {},
     "output_type": "display_data"
    },
    {
     "name": "stdout",
     "output_type": "stream",
     "text": [
      "ReducerReportResult(macro_avg_bits_symbol=5.270217508705985, macro_avg_ratio=0.32938859429412404, micro_avg_ratio=0.32552517298691586, percentage_better_compressed=100.0, number_better_compressed=100, total_number=100, against_vbz_micro_avg_ratio=0.9881453053951554)\n"
     ]
    }
   ],
   "source": [
    "report = run_mapper_reducer(pgnmodels.CppModel(), signal_data)\n",
    "print(report)"
   ]
  },
  {
   "cell_type": "code",
   "execution_count": 4,
   "metadata": {},
   "outputs": [
    {
     "data": {
      "application/vnd.jupyter.widget-view+json": {
       "model_id": "5b0b0f7284c24bfeafd7744fb9a9bbad",
       "version_major": 2,
       "version_minor": 0
      },
      "text/plain": [
       "  0%|          | 0/100 [00:00<?, ?it/s]"
      ]
     },
     "metadata": {},
     "output_type": "display_data"
    },
    {
     "name": "stdout",
     "output_type": "stream",
     "text": [
      "ReducerReportResult(macro_avg_bits_symbol=5.309298206599478, macro_avg_ratio=0.3318311379124674, micro_avg_ratio=0.3263349798760276, percentage_better_compressed=100.0, number_better_compressed=100, total_number=100, against_vbz_micro_avg_ratio=0.990603508146144)\n"
     ]
    }
   ],
   "source": [
    "report = run_mapper_reducer(pgnmodels.EvenOddTimestepCodingModel(), signal_data)\n",
    "print(report)"
   ]
  },
  {
   "cell_type": "code",
   "execution_count": 5,
   "metadata": {},
   "outputs": [
    {
     "data": {
      "application/vnd.jupyter.widget-view+json": {
       "model_id": "80cf6f6550634e0491e1770177ad4fc2",
       "version_major": 2,
       "version_minor": 0
      },
      "text/plain": [
       "  0%|          | 0/100 [00:00<?, ?it/s]"
      ]
     },
     "metadata": {},
     "output_type": "display_data"
    },
    {
     "name": "stdout",
     "output_type": "stream",
     "text": [
      "ReducerReportResult(macro_avg_bits_symbol=5.30789336872144, macro_avg_ratio=0.33174333554509, micro_avg_ratio=0.32624646248583566, percentage_better_compressed=100.0, number_better_compressed=100, total_number=100, against_vbz_micro_avg_ratio=0.9903348098984434)\n"
     ]
    }
   ],
   "source": [
    "report = run_mapper_reducer(pgnmodels.EvenOddDerivativeCodingModel(), signal_data)\n",
    "print(report)"
   ]
  },
  {
   "cell_type": "code",
   "execution_count": 6,
   "metadata": {},
   "outputs": [
    {
     "data": {
      "application/vnd.jupyter.widget-view+json": {
       "model_id": "2ead0c51653a4c599704669e659e84f3",
       "version_major": 2,
       "version_minor": 0
      },
      "text/plain": [
       "  0%|          | 0/100 [00:00<?, ?it/s]"
      ]
     },
     "metadata": {},
     "output_type": "display_data"
    },
    {
     "name": "stdout",
     "output_type": "stream",
     "text": [
      "ReducerReportResult(macro_avg_bits_symbol=6.779193340129236, macro_avg_ratio=0.42369958375807726, micro_avg_ratio=0.4177580613903556, percentage_better_compressed=100.0, number_better_compressed=100, total_number=100, against_vbz_micro_avg_ratio=1.2681221036336054)\n"
     ]
    }
   ],
   "source": [
    "report = run_mapper_reducer(pgnmodels.StabilitySeparatorModel(), signal_data)\n",
    "print(report)"
   ]
  },
  {
   "cell_type": "code",
   "execution_count": 7,
   "metadata": {},
   "outputs": [
    {
     "data": {
      "application/vnd.jupyter.widget-view+json": {
       "model_id": "9dc510d1f7e94f3cb6baf8fb3940b16e",
       "version_major": 2,
       "version_minor": 0
      },
      "text/plain": [
       "  0%|          | 0/100 [00:00<?, ?it/s]"
      ]
     },
     "metadata": {},
     "output_type": "display_data"
    },
    {
     "name": "stdout",
     "output_type": "stream",
     "text": [
      "ReducerReportResult(macro_avg_bits_symbol=5.325465239798703, macro_avg_ratio=0.33284157748741894, micro_avg_ratio=0.3287150169126276, percentage_better_compressed=100.0, number_better_compressed=100, total_number=100, against_vbz_micro_avg_ratio=0.9978282103183393)\n"
     ]
    }
   ],
   "source": [
    "report = run_mapper_reducer(pgnmodels.SklearnModel(LinearRegression()), signal_data)\n",
    "print(report)"
   ]
  },
  {
   "cell_type": "code",
   "execution_count": 8,
   "metadata": {},
   "outputs": [
    {
     "data": {
      "application/vnd.jupyter.widget-view+json": {
       "model_id": "74fbbe4c3a4c4f98b463142bd6e3cc02",
       "version_major": 2,
       "version_minor": 0
      },
      "text/plain": [
       "  0%|          | 0/100 [00:00<?, ?it/s]"
      ]
     },
     "metadata": {},
     "output_type": "display_data"
    },
    {
     "name": "stderr",
     "output_type": "stream",
     "text": [
      "/ens/home01/r/rafael.castelli.ottati/.conda/envs/pgnano/lib/python3.11/site-packages/sklearn/neural_network/_multilayer_perceptron.py:686: ConvergenceWarning: Stochastic Optimizer: Maximum iterations (2000) reached and the optimization hasn't converged yet.\n",
      "  warnings.warn(\n"
     ]
    },
    {
     "name": "stdout",
     "output_type": "stream",
     "text": [
      "ReducerReportResult(macro_avg_bits_symbol=5.927211888764326, macro_avg_ratio=0.37045074304777037, micro_avg_ratio=0.37396561027574166, percentage_better_compressed=100.0, number_better_compressed=100, total_number=100, against_vbz_micro_avg_ratio=1.1351882829290791)\n"
     ]
    }
   ],
   "source": [
    "report = run_mapper_reducer(pgnmodels.SklearnModel(MLPRegressor(hidden_layer_sizes=[3,3,3], activation='relu', max_iter=2000)), signal_data)\n",
    "print(report)"
   ]
  },
  {
   "cell_type": "code",
   "execution_count": 9,
   "metadata": {},
   "outputs": [
    {
     "data": {
      "application/vnd.jupyter.widget-view+json": {
       "model_id": "c56296e659a9435394e816e1c12cbba8",
       "version_major": 2,
       "version_minor": 0
      },
      "text/plain": [
       "  0%|          | 0/100 [00:00<?, ?it/s]"
      ]
     },
     "metadata": {},
     "output_type": "display_data"
    },
    {
     "name": "stdout",
     "output_type": "stream",
     "text": [
      "ReducerReportResult(macro_avg_bits_symbol=5.265600518002212, macro_avg_ratio=0.32910003237513824, micro_avg_ratio=0.3235573336957372, percentage_better_compressed=100.0, number_better_compressed=100, total_number=100, against_vbz_micro_avg_ratio=0.9821718467544363)\n"
     ]
    }
   ],
   "source": [
    "report = run_mapper_reducer(pgnmodels.DerivativeContextModel(), signal_data)\n",
    "print(report)"
   ]
  },
  {
   "cell_type": "code",
   "execution_count": 10,
   "metadata": {},
   "outputs": [
    {
     "data": {
      "application/vnd.jupyter.widget-view+json": {
       "model_id": "ab264df5c4744b658cea9f1599d9b43c",
       "version_major": 2,
       "version_minor": 0
      },
      "text/plain": [
       "  0%|          | 0/100 [00:00<?, ?it/s]"
      ]
     },
     "metadata": {},
     "output_type": "display_data"
    },
    {
     "name": "stdout",
     "output_type": "stream",
     "text": [
      "ReducerReportResult(macro_avg_bits_symbol=5.293374423693973, macro_avg_ratio=0.33083590148087333, micro_avg_ratio=0.32532610942928003, percentage_better_compressed=100.0, number_better_compressed=100, total_number=100, against_vbz_micro_avg_ratio=0.9875410396231777)\n"
     ]
    }
   ],
   "source": [
    "report = run_mapper_reducer(pgnmodels.DerivativeContextModel2([3]), signal_data)\n",
    "print(report)"
   ]
  },
  {
   "cell_type": "code",
   "execution_count": 11,
   "metadata": {},
   "outputs": [
    {
     "data": {
      "application/vnd.jupyter.widget-view+json": {
       "model_id": "54ed55ed1dd245f2b25cc348a5b803b5",
       "version_major": 2,
       "version_minor": 0
      },
      "text/plain": [
       "  0%|          | 0/100 [00:00<?, ?it/s]"
      ]
     },
     "metadata": {},
     "output_type": "display_data"
    },
    {
     "name": "stdout",
     "output_type": "stream",
     "text": [
      "ReducerReportResult(macro_avg_bits_symbol=5.573773097888398, macro_avg_ratio=0.34836081861802487, micro_avg_ratio=0.3425910547796586, percentage_better_compressed=100.0, number_better_compressed=100, total_number=100, against_vbz_micro_avg_ratio=1.0399495048098817)\n"
     ]
    }
   ],
   "source": [
    "report = run_mapper_reducer(pgnmodels.DerivativeContextModel3(), signal_data)\n",
    "print(report)"
   ]
  },
  {
   "cell_type": "code",
   "execution_count": 12,
   "metadata": {},
   "outputs": [
    {
     "data": {
      "application/vnd.jupyter.widget-view+json": {
       "model_id": "8e9ceaaa04bc478e820204df11d0242d",
       "version_major": 2,
       "version_minor": 0
      },
      "text/plain": [
       "  0%|          | 0/100 [00:00<?, ?it/s]"
      ]
     },
     "metadata": {},
     "output_type": "display_data"
    },
    {
     "name": "stdout",
     "output_type": "stream",
     "text": [
      "ReducerReportResult(macro_avg_bits_symbol=5.3089326121299, macro_avg_ratio=0.33180828825811876, micro_avg_ratio=0.32357035981989873, percentage_better_compressed=100.0, number_better_compressed=100, total_number=100, against_vbz_micro_avg_ratio=0.9822113881002548)\n"
     ]
    }
   ],
   "source": [
    "report = run_mapper_reducer(pgnmodels.DerivativeContextModel4([3]), signal_data)\n",
    "print(report)"
   ]
  },
  {
   "cell_type": "code",
   "execution_count": 13,
   "metadata": {},
   "outputs": [
    {
     "data": {
      "application/vnd.jupyter.widget-view+json": {
       "model_id": "6eb69941f104444ab32263c829a34040",
       "version_major": 2,
       "version_minor": 0
      },
      "text/plain": [
       "  0%|          | 0/100 [00:00<?, ?it/s]"
      ]
     },
     "metadata": {},
     "output_type": "display_data"
    },
    {
     "name": "stdout",
     "output_type": "stream",
     "text": [
      "ReducerReportResult(macro_avg_bits_symbol=5.332633568910243, macro_avg_ratio=0.3332895980568902, micro_avg_ratio=0.3293201060882117, percentage_better_compressed=100.0, number_better_compressed=100, total_number=100, against_vbz_micro_avg_ratio=0.9999286985377595)\n"
     ]
    }
   ],
   "source": [
    "report = run_mapper_reducer(pgnmodels.DerivativeContextModel4([3]), chunked_data)\n",
    "print(report)"
   ]
  },
  {
   "cell_type": "code",
   "execution_count": 14,
   "metadata": {},
   "outputs": [
    {
     "data": {
      "application/vnd.jupyter.widget-view+json": {
       "model_id": "9ad79a441c9f442ba910f0c8d1e16e92",
       "version_major": 2,
       "version_minor": 0
      },
      "text/plain": [
       "  0%|          | 0/100 [00:00<?, ?it/s]"
      ]
     },
     "metadata": {},
     "output_type": "display_data"
    },
    {
     "name": "stdout",
     "output_type": "stream",
     "text": [
      "ReducerReportResult(macro_avg_bits_symbol=5.318656781290915, macro_avg_ratio=0.3324160488306822, micro_avg_ratio=0.3233413885977402, percentage_better_compressed=100.0, number_better_compressed=100, total_number=100, against_vbz_micro_avg_ratio=0.9815163363591851)\n"
     ]
    }
   ],
   "source": [
    "report = run_mapper_reducer(pgnmodels.DerivativeContextModel4([10, 20]), signal_data)\n",
    "print(report)"
   ]
  },
  {
   "cell_type": "code",
   "execution_count": 15,
   "metadata": {},
   "outputs": [
    {
     "data": {
      "application/vnd.jupyter.widget-view+json": {
       "model_id": "d31cd2e9c37c429c877545181e812f7b",
       "version_major": 2,
       "version_minor": 0
      },
      "text/plain": [
       "  0%|          | 0/100 [00:00<?, ?it/s]"
      ]
     },
     "metadata": {},
     "output_type": "display_data"
    },
    {
     "name": "stdout",
     "output_type": "stream",
     "text": [
      "ReducerReportResult(macro_avg_bits_symbol=5.38781249443364, macro_avg_ratio=0.3367382809021025, micro_avg_ratio=0.3243915842131307, percentage_better_compressed=100.0, number_better_compressed=100, total_number=100, against_vbz_micro_avg_ratio=0.9847042491635088)\n"
     ]
    }
   ],
   "source": [
    "report = run_mapper_reducer(pgnmodels.DerivativeContextModel4([3,5,10]), signal_data)\n",
    "print(report)"
   ]
  },
  {
   "cell_type": "code",
   "execution_count": 16,
   "metadata": {},
   "outputs": [
    {
     "data": {
      "application/vnd.jupyter.widget-view+json": {
       "model_id": "b0309183c1174fdb92f66505d375051e",
       "version_major": 2,
       "version_minor": 0
      },
      "text/plain": [
       "  0%|          | 0/100 [00:00<?, ?it/s]"
      ]
     },
     "metadata": {},
     "output_type": "display_data"
    },
    {
     "name": "stdout",
     "output_type": "stream",
     "text": [
      "ReducerReportResult(macro_avg_bits_symbol=5.4147160741526, macro_avg_ratio=0.3384197546345375, micro_avg_ratio=0.3248061485815901, percentage_better_compressed=100.0, number_better_compressed=100, total_number=100, against_vbz_micro_avg_ratio=0.9859626766784026)\n"
     ]
    }
   ],
   "source": [
    "report = run_mapper_reducer(pgnmodels.DerivativeContextModel4([3,5,10,20]), signal_data)\n",
    "print(report)"
   ]
  },
  {
   "cell_type": "code",
   "execution_count": 17,
   "metadata": {},
   "outputs": [
    {
     "data": {
      "application/vnd.jupyter.widget-view+json": {
       "model_id": "d4c9307c454d412c93b9bd8d9cfe76f6",
       "version_major": 2,
       "version_minor": 0
      },
      "text/plain": [
       "  0%|          | 0/100 [00:00<?, ?it/s]"
      ]
     },
     "metadata": {},
     "output_type": "display_data"
    },
    {
     "name": "stdout",
     "output_type": "stream",
     "text": [
      "ReducerReportResult(macro_avg_bits_symbol=5.5263326009949765, macro_avg_ratio=0.34539578756218603, micro_avg_ratio=0.32763279530524975, percentage_better_compressed=100.0, number_better_compressed=100, total_number=100, against_vbz_micro_avg_ratio=0.9945430812731254)\n"
     ]
    }
   ],
   "source": [
    "report = run_mapper_reducer(pgnmodels.DerivativeContextModel4([1,2,3,5,10,20,30]), signal_data)\n",
    "print(report)"
   ]
  },
  {
   "cell_type": "code",
   "execution_count": 18,
   "metadata": {},
   "outputs": [
    {
     "name": "stdout",
     "output_type": "stream",
     "text": [
      "                     params  bits/symbol\n",
      "0                       [1]     5.310458\n",
      "1                       [2]     5.310872\n",
      "2                       [3]     5.308933\n",
      "3                       [5]     5.303438\n",
      "4                      [10]     5.291753\n",
      "5                [3, 5, 10]     5.387812\n",
      "6                 [1, 2, 3]     5.398069\n",
      "7            [3, 5, 10, 20]     5.414716\n",
      "8  [1, 2, 3, 5, 10, 20, 30]     5.526333\n"
     ]
    }
   ],
   "source": [
    "res = linear_parameter_search([\n",
    "    [1],\n",
    "    [2],\n",
    "    [3],\n",
    "    [5],\n",
    "    [10],\n",
    "    [3,5,10],\n",
    "    [1,2,3],\n",
    "    [3,5,10,20],\n",
    "    [1,2,3,5,10,20,30]\n",
    "], signal_data)\n",
    "print(res)"
   ]
  },
  {
   "cell_type": "code",
   "execution_count": 19,
   "metadata": {},
   "outputs": [
    {
     "data": {
      "application/vnd.jupyter.widget-view+json": {
       "model_id": "5d8aa4a94b434246a4c2c5751dc1c88a",
       "version_major": 2,
       "version_minor": 0
      },
      "text/plain": [
       "  0%|          | 0/100 [00:00<?, ?it/s]"
      ]
     },
     "metadata": {},
     "output_type": "display_data"
    },
    {
     "name": "stdout",
     "output_type": "stream",
     "text": [
      "ReducerReportResult(macro_avg_bits_symbol=6.956161627020267, macro_avg_ratio=0.43476010168876666, micro_avg_ratio=0.4344279620975711, percentage_better_compressed=100.0, number_better_compressed=100, total_number=100, against_vbz_micro_avg_ratio=1.3187242858676058)\n"
     ]
    }
   ],
   "source": [
    "report = run_mapper_reducer(pgnmodels.RunCodingModel(), signal_data)\n",
    "print(report)"
   ]
  },
  {
   "cell_type": "code",
   "execution_count": 20,
   "metadata": {},
   "outputs": [
    {
     "data": {
      "application/vnd.jupyter.widget-view+json": {
       "model_id": "4da6b6083c434d88ac5634f54b1d8954",
       "version_major": 2,
       "version_minor": 0
      },
      "text/plain": [
       "  0%|          | 0/100 [00:00<?, ?it/s]"
      ]
     },
     "metadata": {},
     "output_type": "display_data"
    },
    {
     "name": "stdout",
     "output_type": "stream",
     "text": [
      "ReducerReportResult(macro_avg_bits_symbol=5.26305906579377, macro_avg_ratio=0.3289411916121106, micro_avg_ratio=0.3272706039057336, percentage_better_compressed=100.0, number_better_compressed=100, total_number=100, against_vbz_micro_avg_ratio=0.9937057075569818)\n"
     ]
    }
   ],
   "source": [
    "report = run_mapper_reducer(pgnmodels.CppModel(), chunked_data)\n",
    "#print(len(list(filter(lambda x: x.compression_ratio > 1, res))))\n",
    "print(report)"
   ]
  },
  {
   "cell_type": "code",
   "execution_count": 21,
   "metadata": {},
   "outputs": [
    {
     "data": {
      "application/vnd.jupyter.widget-view+json": {
       "model_id": "7b408d86d9bf40bcbff8c2be39f48717",
       "version_major": 2,
       "version_minor": 0
      },
      "text/plain": [
       "  0%|          | 0/100 [00:00<?, ?it/s]"
      ]
     },
     "metadata": {},
     "output_type": "display_data"
    },
    {
     "name": "stdout",
     "output_type": "stream",
     "text": [
      "0\n"
     ]
    },
    {
     "ename": "TypeError",
     "evalue": "ReducerReportResult.__new__() missing 1 required positional argument: 'macro_avg_bits_symbol'",
     "output_type": "error",
     "traceback": [
      "\u001b[0;31m---------------------------------------------------------------------------\u001b[0m",
      "\u001b[0;31mTypeError\u001b[0m                                 Traceback (most recent call last)",
      "\u001b[1;32m/data/pgnanoraw/pod5_fork/src/python/pgnano/stats_analysis/notebooks/9_4_1/stats_analysis.ipynb Cell 21\u001b[0m line \u001b[0;36m1\n\u001b[1;32m     <a href='vscode-notebook-cell://ssh-remote%2Blnano.fing.edu.uy/data/pgnanoraw/pod5_fork/src/python/pgnano/stats_analysis/notebooks/9_4_1/stats_analysis.ipynb#X26sdnNjb2RlLXJlbW90ZQ%3D%3D?line=14'>15</a>\u001b[0m     res \u001b[39m=\u001b[39m \u001b[39mlist\u001b[39m(tqdm(p\u001b[39m.\u001b[39mimap(mapper_nibble,\u001b[39menumerate\u001b[39m(signal_data)), total\u001b[39m=\u001b[39m\u001b[39mlen\u001b[39m(signal_data)))\n\u001b[1;32m     <a href='vscode-notebook-cell://ssh-remote%2Blnano.fing.edu.uy/data/pgnanoraw/pod5_fork/src/python/pgnano/stats_analysis/notebooks/9_4_1/stats_analysis.ipynb#X26sdnNjb2RlLXJlbW90ZQ%3D%3D?line=16'>17</a>\u001b[0m \u001b[39mprint\u001b[39m(\u001b[39mlen\u001b[39m(\u001b[39mlist\u001b[39m(\u001b[39mfilter\u001b[39m(\u001b[39mlambda\u001b[39;00m x: x\u001b[39m.\u001b[39mcompression_ratio \u001b[39m>\u001b[39m \u001b[39m1\u001b[39m, res))))\n\u001b[0;32m---> <a href='vscode-notebook-cell://ssh-remote%2Blnano.fing.edu.uy/data/pgnanoraw/pod5_fork/src/python/pgnano/stats_analysis/notebooks/9_4_1/stats_analysis.ipynb#X26sdnNjb2RlLXJlbW90ZQ%3D%3D?line=18'>19</a>\u001b[0m report \u001b[39m=\u001b[39m ReducerReportResult(\n\u001b[1;32m     <a href='vscode-notebook-cell://ssh-remote%2Blnano.fing.edu.uy/data/pgnanoraw/pod5_fork/src/python/pgnano/stats_analysis/notebooks/9_4_1/stats_analysis.ipynb#X26sdnNjb2RlLXJlbW90ZQ%3D%3D?line=19'>20</a>\u001b[0m     macro_avg_ratio\u001b[39m=\u001b[39mst\u001b[39m.\u001b[39mmean(\u001b[39mmap\u001b[39m(\u001b[39mlambda\u001b[39;00m x: x\u001b[39m.\u001b[39mcompression_ratio, res)),\n\u001b[1;32m     <a href='vscode-notebook-cell://ssh-remote%2Blnano.fing.edu.uy/data/pgnanoraw/pod5_fork/src/python/pgnano/stats_analysis/notebooks/9_4_1/stats_analysis.ipynb#X26sdnNjb2RlLXJlbW90ZQ%3D%3D?line=20'>21</a>\u001b[0m     micro_avg_ratio\u001b[39m=\u001b[39m (\u001b[39msum\u001b[39m(\u001b[39mmap\u001b[39m(\u001b[39mlambda\u001b[39;00m x: x\u001b[39m.\u001b[39mcode_len, res))) \u001b[39m/\u001b[39m (\u001b[39msum\u001b[39m(\u001b[39mmap\u001b[39m(\u001b[39mlambda\u001b[39;00m x: x\u001b[39m.\u001b[39muncompressed_bits, res))),\n\u001b[1;32m     <a href='vscode-notebook-cell://ssh-remote%2Blnano.fing.edu.uy/data/pgnanoraw/pod5_fork/src/python/pgnano/stats_analysis/notebooks/9_4_1/stats_analysis.ipynb#X26sdnNjb2RlLXJlbW90ZQ%3D%3D?line=21'>22</a>\u001b[0m     number_better_compressed\u001b[39m=\u001b[39m\u001b[39msum\u001b[39m(\u001b[39mmap\u001b[39m(\u001b[39mlambda\u001b[39;00m x: \u001b[39m1\u001b[39m \u001b[39mif\u001b[39;00m x\u001b[39m.\u001b[39mis_better_compressed \u001b[39melse\u001b[39;00m \u001b[39m0\u001b[39m, res)),\n\u001b[1;32m     <a href='vscode-notebook-cell://ssh-remote%2Blnano.fing.edu.uy/data/pgnanoraw/pod5_fork/src/python/pgnano/stats_analysis/notebooks/9_4_1/stats_analysis.ipynb#X26sdnNjb2RlLXJlbW90ZQ%3D%3D?line=22'>23</a>\u001b[0m     total_number\u001b[39m=\u001b[39m\u001b[39mlen\u001b[39m(res),\n\u001b[1;32m     <a href='vscode-notebook-cell://ssh-remote%2Blnano.fing.edu.uy/data/pgnanoraw/pod5_fork/src/python/pgnano/stats_analysis/notebooks/9_4_1/stats_analysis.ipynb#X26sdnNjb2RlLXJlbW90ZQ%3D%3D?line=23'>24</a>\u001b[0m     percentage_better_compressed\u001b[39m=\u001b[39m\u001b[39m100\u001b[39m\u001b[39m*\u001b[39m(\u001b[39msum\u001b[39m(\u001b[39mmap\u001b[39m(\u001b[39mlambda\u001b[39;00m x: \u001b[39m1\u001b[39m \u001b[39mif\u001b[39;00m x\u001b[39m.\u001b[39mis_better_compressed \u001b[39melse\u001b[39;00m \u001b[39m0\u001b[39m, res)) \u001b[39m/\u001b[39m \u001b[39mlen\u001b[39m(res)),\n\u001b[1;32m     <a href='vscode-notebook-cell://ssh-remote%2Blnano.fing.edu.uy/data/pgnanoraw/pod5_fork/src/python/pgnano/stats_analysis/notebooks/9_4_1/stats_analysis.ipynb#X26sdnNjb2RlLXJlbW90ZQ%3D%3D?line=24'>25</a>\u001b[0m     against_vbz_micro_avg_ratio\u001b[39m=\u001b[39m (\u001b[39msum\u001b[39m(\u001b[39mmap\u001b[39m(\u001b[39mlambda\u001b[39;00m x: x\u001b[39m.\u001b[39mcode_len, res))) \u001b[39m/\u001b[39m (\u001b[39msum\u001b[39m(\u001b[39mmap\u001b[39m(\u001b[39mlambda\u001b[39;00m x: x\u001b[39m.\u001b[39mvbz_compressed_bits, res)))\n\u001b[1;32m     <a href='vscode-notebook-cell://ssh-remote%2Blnano.fing.edu.uy/data/pgnanoraw/pod5_fork/src/python/pgnano/stats_analysis/notebooks/9_4_1/stats_analysis.ipynb#X26sdnNjb2RlLXJlbW90ZQ%3D%3D?line=25'>26</a>\u001b[0m )\n\u001b[1;32m     <a href='vscode-notebook-cell://ssh-remote%2Blnano.fing.edu.uy/data/pgnanoraw/pod5_fork/src/python/pgnano/stats_analysis/notebooks/9_4_1/stats_analysis.ipynb#X26sdnNjb2RlLXJlbW90ZQ%3D%3D?line=26'>27</a>\u001b[0m \u001b[39mprint\u001b[39m(report)\n",
      "\u001b[0;31mTypeError\u001b[0m: ReducerReportResult.__new__() missing 1 required positional argument: 'macro_avg_bits_symbol'"
     ]
    }
   ],
   "source": [
    "def mapper_nibble(x):\n",
    "    signal = x[1]\n",
    "    idx = x[0]\n",
    "    model = pgnmodels.NibbleSimpleErrorModel()\n",
    "    vbz_model = pgnmodels.VbzModel()\n",
    "    signal_length = len(signal)\n",
    "    code_len = model.get_code_lenght(signal)\n",
    "    uncompressed_bits = signal_length * 16\n",
    "    compression_ratio = code_len / uncompressed_bits\n",
    "    is_better_compressed = code_len < uncompressed_bits\n",
    "    return MapperReportResult(idx, code_len, signal_length, uncompressed_bits, compression_ratio, is_better_compressed, vbz_model.get_code_lenght(signal))\n",
    "\n",
    "\n",
    "with mp.Pool(os.cpu_count()) as p:\n",
    "    res = list(tqdm(p.imap(mapper_nibble,enumerate(signal_data)), total=len(signal_data)))\n",
    "\n",
    "print(len(list(filter(lambda x: x.compression_ratio > 1, res))))\n",
    "\n",
    "report = ReducerReportResult(\n",
    "    macro_avg_ratio=st.mean(map(lambda x: x.compression_ratio, res)),\n",
    "    micro_avg_ratio= (sum(map(lambda x: x.code_len, res))) / (sum(map(lambda x: x.uncompressed_bits, res))),\n",
    "    number_better_compressed=sum(map(lambda x: 1 if x.is_better_compressed else 0, res)),\n",
    "    total_number=len(res),\n",
    "    percentage_better_compressed=100*(sum(map(lambda x: 1 if x.is_better_compressed else 0, res)) / len(res)),\n",
    "    against_vbz_micro_avg_ratio= (sum(map(lambda x: x.code_len, res))) / (sum(map(lambda x: x.vbz_compressed_bits, res)))\n",
    ")\n",
    "print(report)"
   ]
  },
  {
   "cell_type": "code",
   "execution_count": null,
   "metadata": {},
   "outputs": [],
   "source": [
    "start=2250\n",
    "size=250\n",
    "limit=start + size\n",
    "one_signal = signal_data[0]\n",
    "prev = 0\n",
    "predicted_signal = []\n",
    "for signal in one_signal:\n",
    "    predicted_signal.append(prev)\n",
    "    prev = signal\n",
    "#plt.plot(one_signal[start:limit])\n",
    "#plt.plot(predicted_signal[start:limit])\n",
    "plt.plot(list(map(lambda x: abs(x[0] - x[1]), zip(one_signal[start:limit], predicted_signal[start:limit]))))\n"
   ]
  },
  {
   "cell_type": "code",
   "execution_count": null,
   "metadata": {},
   "outputs": [],
   "source": [
    "start=2250\n",
    "size=50\n",
    "model = SklearnModel(LinearRegression())\n",
    "one_signal = signal_data[0]\n",
    "abstract_plot(model, one_signal, start, size)"
   ]
  },
  {
   "cell_type": "code",
   "execution_count": null,
   "metadata": {},
   "outputs": [],
   "source": [
    "start=2250\n",
    "size=250\n",
    "model = SklearnModel(MLPRegressor(hidden_layer_sizes=[3,3,3], activation='relu', max_iter=2000))\n",
    "one_signal = signal_data[0]\n",
    "abstract_plot(model, one_signal, start, size)"
   ]
  },
  {
   "cell_type": "code",
   "execution_count": null,
   "metadata": {},
   "outputs": [],
   "source": [
    "mapped_signal = []\n",
    "prev_val = 0\n",
    "for x in one_signal:\n",
    "    mapped_signal.append(int(x) - prev_val)\n",
    "    prev_val = int(x)\n",
    "mapped_signal = list(map(lambda x: 2*x if x >= 0 else -2*x - 1, mapped_signal[1:250]))\n",
    "plt.plot(mapped_signal)\n",
    "print(f\"mean: {st.mean(mapped_signal)}\")\n",
    "print(f\"stddev: {st.stdev(mapped_signal)}\")"
   ]
  },
  {
   "cell_type": "code",
   "execution_count": null,
   "metadata": {},
   "outputs": [],
   "source": [
    "low_hg, high_hg = pgnprim.split_by_bytes_hg(signal_data[0])\n",
    "hg1, hg2, hg3, hg4 = pgnprim.split_by_nibbles_hg(signal_data[0])"
   ]
  },
  {
   "cell_type": "code",
   "execution_count": null,
   "metadata": {},
   "outputs": [],
   "source": [
    "low_x = low_hg.get_indexes()\n",
    "low_y = low_hg.get_data()\n",
    "\n",
    "plt.plot(low_x, low_y)"
   ]
  },
  {
   "cell_type": "code",
   "execution_count": null,
   "metadata": {},
   "outputs": [],
   "source": [
    "high_x = high_hg.get_indexes()\n",
    "high_y = high_hg.get_data()\n",
    "\n",
    "plt.plot(high_x, high_y)"
   ]
  },
  {
   "cell_type": "code",
   "execution_count": null,
   "metadata": {},
   "outputs": [],
   "source": [
    "nibble1_x = hg1.get_indexes()\n",
    "nibble1_y = hg1.get_data()\n",
    "\n",
    "plt.plot(nibble1_x, nibble1_y)"
   ]
  },
  {
   "cell_type": "code",
   "execution_count": null,
   "metadata": {},
   "outputs": [],
   "source": [
    "nibble2_x = hg2.get_indexes()\n",
    "nibble2_y = hg2.get_data()\n",
    "\n",
    "plt.plot(nibble2_x, nibble2_y)"
   ]
  },
  {
   "cell_type": "code",
   "execution_count": null,
   "metadata": {},
   "outputs": [],
   "source": [
    "nibble3_x = hg3.get_indexes()\n",
    "nibble3_y = hg3.get_data()\n",
    "\n",
    "plt.plot(nibble3_x, nibble3_y)"
   ]
  },
  {
   "cell_type": "code",
   "execution_count": null,
   "metadata": {},
   "outputs": [],
   "source": [
    "nibble4_x = hg4.get_indexes()\n",
    "nibble4_y = hg4.get_data()\n",
    "\n",
    "plt.plot(nibble4_x, nibble4_y)"
   ]
  },
  {
   "cell_type": "code",
   "execution_count": null,
   "metadata": {},
   "outputs": [],
   "source": [
    "# Estimate code lenght\n",
    "d = signal_data[:1000]\n",
    "#print(len(list(filter(lambda x: x < 1 << 12,d))))\n",
    "model = pgnprim.CppModel()\n",
    "model.get_code_lenght(d)"
   ]
  }
 ],
 "metadata": {
  "kernelspec": {
   "display_name": "pgnano",
   "language": "python",
   "name": "python3"
  },
  "language_info": {
   "codemirror_mode": {
    "name": "ipython",
    "version": 3
   },
   "file_extension": ".py",
   "mimetype": "text/x-python",
   "name": "python",
   "nbconvert_exporter": "python",
   "pygments_lexer": "ipython3",
   "version": "3.11.4"
  },
  "orig_nbformat": 4
 },
 "nbformat": 4,
 "nbformat_minor": 2
}
