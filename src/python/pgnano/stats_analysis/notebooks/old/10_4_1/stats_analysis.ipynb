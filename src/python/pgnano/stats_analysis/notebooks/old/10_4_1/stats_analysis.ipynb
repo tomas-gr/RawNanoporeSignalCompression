{
 "cells": [
  {
   "cell_type": "code",
   "execution_count": null,
   "metadata": {},
   "outputs": [],
   "source": [
    "import pod5\n",
    "import numpy as np\n",
    "import matplotlib.pyplot as plt\n",
    "import pgnano.stats_analysis.primitives as pgnprim\n",
    "import pgnano.stats_analysis.models as pgnmodels\n",
    "from pgnano.stats_analysis.map_reduce_stats import abstract_mapper, run_mapper, abstract_reducer, run_mapper_reducer, ReducerReportResult, MapperReportResult\n",
    "import pgnano.stats_analysis.jupyter_data_preparation as pgndata\n",
    "import os\n",
    "from pgnano.constants.constants import stats_analysis_root_path\n",
    "from typing import List\n",
    "import statistics as st\n",
    "import multiprocessing as mp\n",
    "from collections import namedtuple\n",
    "from tqdm.auto import tqdm\n",
    "from sklearn.linear_model import LinearRegression\n",
    "from sklearn.neural_network import MLPRegressor\n",
    "from pgnano.stats_analysis.abstract_plotter import abstract_plot\n",
    "from pgnano.stats_analysis.models import SklearnModel\n",
    "from pgnano.stats_analysis.parameter_search import linear_parameter_search"
   ]
  },
  {
   "cell_type": "code",
   "execution_count": null,
   "metadata": {},
   "outputs": [],
   "source": [
    "signal_data, chunked_data = pgndata.flatten_sample_data(pgnprim.PGPoreType.P10_4_1, 100)"
   ]
  },
  {
   "cell_type": "code",
   "execution_count": null,
   "metadata": {},
   "outputs": [],
   "source": [
    "report = run_mapper_reducer(pgnmodels.CppModel(), signal_data)\n",
    "print(report)"
   ]
  },
  {
   "cell_type": "code",
   "execution_count": null,
   "metadata": {},
   "outputs": [],
   "source": [
    "report = run_mapper_reducer(pgnmodels.EvenOddTimestepCodingModel(), signal_data)\n",
    "print(report)"
   ]
  },
  {
   "cell_type": "code",
   "execution_count": null,
   "metadata": {},
   "outputs": [],
   "source": [
    "report = run_mapper_reducer(pgnmodels.EvenOddDerivativeCodingModel(), signal_data)\n",
    "print(report)"
   ]
  },
  {
   "cell_type": "code",
   "execution_count": null,
   "metadata": {},
   "outputs": [],
   "source": [
    "report = run_mapper_reducer(pgnmodels.StabilitySeparatorModel(), signal_data)\n",
    "print(report)"
   ]
  },
  {
   "cell_type": "code",
   "execution_count": 7,
   "metadata": {},
   "outputs": [],
   "source": [
    "report = run_mapper_reducer(pgnmodels.SklearnModel(LinearRegression()), signal_data)\n",
    "print(report)"
   ]
  },
  {
   "cell_type": "code",
   "execution_count": null,
   "metadata": {},
   "outputs": [],
   "source": [
    "report = run_mapper_reducer(pgnmodels.SklearnModel(MLPRegressor(hidden_layer_sizes=[3,3,3], activation='relu', max_iter=2000)), signal_data)\n",
    "print(report)"
   ]
  },
  {
   "cell_type": "code",
   "execution_count": null,
   "metadata": {},
   "outputs": [],
   "source": [
    "report = run_mapper_reducer(pgnmodels.DerivativeContextModel(), signal_data)\n",
    "print(report)"
   ]
  },
  {
   "cell_type": "code",
   "execution_count": null,
   "metadata": {},
   "outputs": [],
   "source": [
    "report = run_mapper_reducer(pgnmodels.DerivativeContextModel2([3]), signal_data)\n",
    "print(report)"
   ]
  },
  {
   "cell_type": "code",
   "execution_count": null,
   "metadata": {},
   "outputs": [],
   "source": [
    "report = run_mapper_reducer(pgnmodels.DerivativeContextModel3(), signal_data)\n",
    "print(report)"
   ]
  },
  {
   "cell_type": "code",
   "execution_count": null,
   "metadata": {},
   "outputs": [],
   "source": [
    "report = run_mapper_reducer(pgnmodels.DerivativeContextModel4([3]), signal_data)\n",
    "print(report)"
   ]
  },
  {
   "cell_type": "code",
   "execution_count": null,
   "metadata": {},
   "outputs": [],
   "source": [
    "report = run_mapper_reducer(pgnmodels.DerivativeContextModel4([3]), chunked_data)\n",
    "print(report)"
   ]
  },
  {
   "cell_type": "code",
   "execution_count": null,
   "metadata": {},
   "outputs": [],
   "source": [
    "report = run_mapper_reducer(pgnmodels.DerivativeContextModel4([10, 20]), signal_data)\n",
    "print(report)"
   ]
  },
  {
   "cell_type": "code",
   "execution_count": null,
   "metadata": {},
   "outputs": [],
   "source": [
    "report = run_mapper_reducer(pgnmodels.DerivativeContextModel4([3,5,10]), signal_data)\n",
    "print(report)"
   ]
  },
  {
   "cell_type": "code",
   "execution_count": null,
   "metadata": {},
   "outputs": [],
   "source": [
    "report = run_mapper_reducer(pgnmodels.DerivativeContextModel4([3,5,10,20]), signal_data)\n",
    "print(report)"
   ]
  },
  {
   "cell_type": "code",
   "execution_count": null,
   "metadata": {},
   "outputs": [],
   "source": [
    "report = run_mapper_reducer(pgnmodels.DerivativeContextModel4([1,2,3,5,10,20,30]), signal_data)\n",
    "print(report)"
   ]
  },
  {
   "cell_type": "code",
   "execution_count": null,
   "metadata": {},
   "outputs": [],
   "source": [
    "res = linear_parameter_search([\n",
    "    [1],\n",
    "    [2],\n",
    "    [3],\n",
    "    [5],\n",
    "    [10],\n",
    "    [3,5,10],\n",
    "    [1,2,3],\n",
    "    [3,5,10,20],\n",
    "    [1,2,3,5,10,20,30]\n",
    "], signal_data)\n",
    "print(res)"
   ]
  },
  {
   "cell_type": "code",
   "execution_count": null,
   "metadata": {},
   "outputs": [],
   "source": [
    "report = run_mapper_reducer(pgnmodels.RunCodingModel(), signal_data)\n",
    "print(report)"
   ]
  },
  {
   "cell_type": "code",
   "execution_count": null,
   "metadata": {},
   "outputs": [],
   "source": [
    "report = run_mapper_reducer(pgnmodels.CppModel(), chunked_data)\n",
    "#print(len(list(filter(lambda x: x.compression_ratio > 1, res))))\n",
    "print(report)"
   ]
  },
  {
   "cell_type": "code",
   "execution_count": null,
   "metadata": {},
   "outputs": [],
   "source": [
    "def mapper_nibble(x):\n",
    "    signal = x[1]\n",
    "    idx = x[0]\n",
    "    model = pgnmodels.NibbleSimpleErrorModel()\n",
    "    vbz_model = pgnmodels.VbzModel()\n",
    "    signal_length = len(signal)\n",
    "    code_len = model.get_code_lenght(signal)\n",
    "    uncompressed_bits = signal_length * 16\n",
    "    compression_ratio = code_len / uncompressed_bits\n",
    "    is_better_compressed = code_len < uncompressed_bits\n",
    "    return MapperReportResult(idx, code_len, signal_length, uncompressed_bits, compression_ratio, is_better_compressed, vbz_model.get_code_lenght(signal))\n",
    "\n",
    "\n",
    "with mp.Pool(os.cpu_count()) as p:\n",
    "    res = list(tqdm(p.imap(mapper_nibble,enumerate(signal_data)), total=len(signal_data)))\n",
    "\n",
    "print(len(list(filter(lambda x: x.compression_ratio > 1, res))))\n",
    "\n",
    "report = ReducerReportResult(\n",
    "    macro_avg_ratio=st.mean(map(lambda x: x.compression_ratio, res)),\n",
    "    micro_avg_ratio= (sum(map(lambda x: x.code_len, res))) / (sum(map(lambda x: x.uncompressed_bits, res))),\n",
    "    number_better_compressed=sum(map(lambda x: 1 if x.is_better_compressed else 0, res)),\n",
    "    total_number=len(res),\n",
    "    percentage_better_compressed=100*(sum(map(lambda x: 1 if x.is_better_compressed else 0, res)) / len(res)),\n",
    "    against_vbz_micro_avg_ratio= (sum(map(lambda x: x.code_len, res))) / (sum(map(lambda x: x.vbz_compressed_bits, res)))\n",
    ")\n",
    "print(report)"
   ]
  },
  {
   "cell_type": "code",
   "execution_count": null,
   "metadata": {},
   "outputs": [],
   "source": [
    "start=2250\n",
    "size=250\n",
    "limit=start + size\n",
    "one_signal = signal_data[0]\n",
    "prev = 0\n",
    "predicted_signal = []\n",
    "for signal in one_signal:\n",
    "    predicted_signal.append(prev)\n",
    "    prev = signal\n",
    "#plt.plot(one_signal[start:limit])\n",
    "#plt.plot(predicted_signal[start:limit])\n",
    "plt.plot(list(map(lambda x: abs(x[0] - x[1]), zip(one_signal[start:limit], predicted_signal[start:limit]))))\n"
   ]
  },
  {
   "cell_type": "code",
   "execution_count": null,
   "metadata": {},
   "outputs": [],
   "source": [
    "start=2250\n",
    "size=50\n",
    "model = SklearnModel(LinearRegression())\n",
    "one_signal = signal_data[0]\n",
    "abstract_plot(model, one_signal, start, size)"
   ]
  },
  {
   "cell_type": "code",
   "execution_count": null,
   "metadata": {},
   "outputs": [],
   "source": [
    "start=2250\n",
    "size=250\n",
    "model = SklearnModel(MLPRegressor(hidden_layer_sizes=[3,3,3], activation='relu', max_iter=2000))\n",
    "one_signal = signal_data[0]\n",
    "abstract_plot(model, one_signal, start, size)"
   ]
  },
  {
   "cell_type": "code",
   "execution_count": null,
   "metadata": {},
   "outputs": [],
   "source": [
    "mapped_signal = []\n",
    "prev_val = 0\n",
    "for x in one_signal:\n",
    "    mapped_signal.append(int(x) - prev_val)\n",
    "    prev_val = int(x)\n",
    "mapped_signal = list(map(lambda x: 2*x if x >= 0 else -2*x - 1, mapped_signal[1:250]))\n",
    "plt.plot(mapped_signal)\n",
    "print(f\"mean: {st.mean(mapped_signal)}\")\n",
    "print(f\"stddev: {st.stdev(mapped_signal)}\")"
   ]
  },
  {
   "cell_type": "code",
   "execution_count": null,
   "metadata": {},
   "outputs": [],
   "source": [
    "low_hg, high_hg = pgnprim.split_by_bytes_hg(signal_data[0])\n",
    "hg1, hg2, hg3, hg4 = pgnprim.split_by_nibbles_hg(signal_data[0])"
   ]
  },
  {
   "cell_type": "code",
   "execution_count": null,
   "metadata": {},
   "outputs": [],
   "source": [
    "low_x = low_hg.get_indexes()\n",
    "low_y = low_hg.get_data()\n",
    "\n",
    "plt.plot(low_x, low_y)"
   ]
  },
  {
   "cell_type": "code",
   "execution_count": null,
   "metadata": {},
   "outputs": [],
   "source": [
    "high_x = high_hg.get_indexes()\n",
    "high_y = high_hg.get_data()\n",
    "\n",
    "plt.plot(high_x, high_y)"
   ]
  },
  {
   "cell_type": "code",
   "execution_count": null,
   "metadata": {},
   "outputs": [],
   "source": [
    "nibble1_x = hg1.get_indexes()\n",
    "nibble1_y = hg1.get_data()\n",
    "\n",
    "plt.plot(nibble1_x, nibble1_y)"
   ]
  },
  {
   "cell_type": "code",
   "execution_count": null,
   "metadata": {},
   "outputs": [],
   "source": [
    "nibble2_x = hg2.get_indexes()\n",
    "nibble2_y = hg2.get_data()\n",
    "\n",
    "plt.plot(nibble2_x, nibble2_y)"
   ]
  },
  {
   "cell_type": "code",
   "execution_count": null,
   "metadata": {},
   "outputs": [],
   "source": [
    "nibble3_x = hg3.get_indexes()\n",
    "nibble3_y = hg3.get_data()\n",
    "\n",
    "plt.plot(nibble3_x, nibble3_y)"
   ]
  },
  {
   "cell_type": "code",
   "execution_count": null,
   "metadata": {},
   "outputs": [],
   "source": [
    "nibble4_x = hg4.get_indexes()\n",
    "nibble4_y = hg4.get_data()\n",
    "\n",
    "plt.plot(nibble4_x, nibble4_y)"
   ]
  },
  {
   "cell_type": "code",
   "execution_count": null,
   "metadata": {},
   "outputs": [],
   "source": [
    "# Estimate code lenght\n",
    "d = signal_data[:1000]\n",
    "#print(len(list(filter(lambda x: x < 1 << 12,d))))\n",
    "model = pgnprim.CppModel()\n",
    "model.get_code_lenght(d)"
   ]
  }
 ],
 "metadata": {
  "kernelspec": {
   "display_name": "pgnano",
   "language": "python",
   "name": "python3"
  },
  "language_info": {
   "codemirror_mode": {
    "name": "ipython",
    "version": 3
   },
   "file_extension": ".py",
   "mimetype": "text/x-python",
   "name": "python",
   "nbconvert_exporter": "python",
   "pygments_lexer": "ipython3",
   "version": "3.11.4"
  },
  "orig_nbformat": 4
 },
 "nbformat": 4,
 "nbformat_minor": 2
}
