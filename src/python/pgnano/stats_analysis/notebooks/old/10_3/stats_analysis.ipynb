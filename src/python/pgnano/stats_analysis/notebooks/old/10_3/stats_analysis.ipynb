{
 "cells": [
  {
   "cell_type": "code",
   "execution_count": 1,
   "metadata": {},
   "outputs": [],
   "source": [
    "import pod5\n",
    "import numpy as np\n",
    "import matplotlib.pyplot as plt\n",
    "import pgnano.stats_analysis.primitives as pgnprim\n",
    "import pgnano.stats_analysis.models as pgnmodels\n",
    "from pgnano.stats_analysis.map_reduce_stats import abstract_mapper, run_mapper, abstract_reducer, run_mapper_reducer, ReducerReportResult, MapperReportResult\n",
    "import pgnano.stats_analysis.jupyter_data_preparation as pgndata\n",
    "import os\n",
    "from pgnano.constants.constants import stats_analysis_root_path\n",
    "from typing import List\n",
    "import statistics as st\n",
    "import multiprocessing as mp\n",
    "from collections import namedtuple\n",
    "from tqdm.auto import tqdm\n",
    "from sklearn.linear_model import LinearRegression\n",
    "from sklearn.neural_network import MLPRegressor\n",
    "from pgnano.stats_analysis.abstract_plotter import abstract_plot\n",
    "from pgnano.stats_analysis.models import SklearnModel\n",
    "from pgnano.stats_analysis.parameter_search import linear_parameter_search"
   ]
  },
  {
   "cell_type": "code",
   "execution_count": 2,
   "metadata": {},
   "outputs": [
    {
     "name": "stdout",
     "output_type": "stream",
     "text": [
      "['/data/datananoraw/data_analysis/10_3/09cb1f61-batch5.pod5', '/data/datananoraw/data_analysis/10_3/0b23e26f-batch10.pod5', '/data/datananoraw/data_analysis/10_3/0e940b5b-batch7.pod5', '/data/datananoraw/data_analysis/10_3/1fdd4589-batch8.pod5', '/data/datananoraw/data_analysis/10_3/2140fbcc-batch15.pod5', '/data/datananoraw/data_analysis/10_3/21c453ee-batch4.pod5', '/data/datananoraw/data_analysis/10_3/269a41f2-batch21.pod5', '/data/datananoraw/data_analysis/10_3/2dde8350-batch5.pod5', '/data/datananoraw/data_analysis/10_3/6235de73-batch6.pod5', '/data/datananoraw/data_analysis/10_3/7f0071c4-batch11.pod5', '/data/datananoraw/data_analysis/10_3/c689afea-batch13.pod5', '/data/datananoraw/data_analysis/10_3/c767459b-batch12.pod5', '/data/datananoraw/data_analysis/10_3/dc0e0091-batch7.pod5', '/data/datananoraw/data_analysis/10_3/e951f24f-batch3.pod5']\n",
      "[('/data/datananoraw/data_analysis/10_3/0e940b5b-batch7.pod5', 130007480), ('/data/datananoraw/data_analysis/10_3/2140fbcc-batch15.pod5', 197055040), ('/data/datananoraw/data_analysis/10_3/09cb1f61-batch5.pod5', 285499040), ('/data/datananoraw/data_analysis/10_3/269a41f2-batch21.pod5', 315482760), ('/data/datananoraw/data_analysis/10_3/21c453ee-batch4.pod5', 523028912), ('/data/datananoraw/data_analysis/10_3/6235de73-batch6.pod5', 670185984), ('/data/datananoraw/data_analysis/10_3/dc0e0091-batch7.pod5', 743739944), ('/data/datananoraw/data_analysis/10_3/c767459b-batch12.pod5', 864734352), ('/data/datananoraw/data_analysis/10_3/0b23e26f-batch10.pod5', 987203832), ('/data/datananoraw/data_analysis/10_3/1fdd4589-batch8.pod5', 1193294920), ('/data/datananoraw/data_analysis/10_3/7f0071c4-batch11.pod5', 1345491392), ('/data/datananoraw/data_analysis/10_3/c689afea-batch13.pod5', 1471286968), ('/data/datananoraw/data_analysis/10_3/e951f24f-batch3.pod5', 1650508176), ('/data/datananoraw/data_analysis/10_3/2dde8350-batch5.pod5', 1718728120)]\n"
     ]
    }
   ],
   "source": [
    "signal_data, chunked_data = pgndata.flatten_sample_data(pgnprim.PGPoreType.P10_3, 100)"
   ]
  },
  {
   "cell_type": "code",
   "execution_count": 3,
   "metadata": {},
   "outputs": [
    {
     "data": {
      "application/vnd.jupyter.widget-view+json": {
       "model_id": "c01b719935f2406ab7e5e6d3c1a488e5",
       "version_major": 2,
       "version_minor": 0
      },
      "text/plain": [
       "  0%|          | 0/100 [00:00<?, ?it/s]"
      ]
     },
     "metadata": {},
     "output_type": "display_data"
    },
    {
     "name": "stdout",
     "output_type": "stream",
     "text": [
      "ReducerReportResult(macro_avg_bits_symbol=6.901555208892779, macro_avg_ratio=0.43134720055579867, micro_avg_ratio=0.42954651091565843, percentage_better_compressed=100.0, number_better_compressed=100, total_number=100, against_vbz_micro_avg_ratio=0.9636969791686448)\n"
     ]
    }
   ],
   "source": [
    "report = run_mapper_reducer(pgnmodels.CppModel(), signal_data)\n",
    "print(report)"
   ]
  },
  {
   "cell_type": "code",
   "execution_count": 4,
   "metadata": {},
   "outputs": [
    {
     "data": {
      "application/vnd.jupyter.widget-view+json": {
       "model_id": "ea9816c46cc04070b73997bf78fe7787",
       "version_major": 2,
       "version_minor": 0
      },
      "text/plain": [
       "  0%|          | 0/100 [00:00<?, ?it/s]"
      ]
     },
     "metadata": {},
     "output_type": "display_data"
    },
    {
     "name": "stdout",
     "output_type": "stream",
     "text": [
      "ReducerReportResult(macro_avg_bits_symbol=6.9490015008937025, macro_avg_ratio=0.4343125938058564, micro_avg_ratio=0.43034343513370227, percentage_better_compressed=100.0, number_better_compressed=100, total_number=100, against_vbz_micro_avg_ratio=0.9654848960578265)\n"
     ]
    }
   ],
   "source": [
    "report = run_mapper_reducer(pgnmodels.EvenOddTimestepCodingModel(), signal_data)\n",
    "print(report)"
   ]
  },
  {
   "cell_type": "code",
   "execution_count": 5,
   "metadata": {},
   "outputs": [
    {
     "data": {
      "application/vnd.jupyter.widget-view+json": {
       "model_id": "6d7a627eaa9945b9bd1841bbddd34ca3",
       "version_major": 2,
       "version_minor": 0
      },
      "text/plain": [
       "  0%|          | 0/100 [00:00<?, ?it/s]"
      ]
     },
     "metadata": {},
     "output_type": "display_data"
    },
    {
     "name": "stdout",
     "output_type": "stream",
     "text": [
      "ReducerReportResult(macro_avg_bits_symbol=6.947940407783791, macro_avg_ratio=0.4342462754864869, micro_avg_ratio=0.4303118594031613, percentage_better_compressed=100.0, number_better_compressed=100, total_number=100, against_vbz_micro_avg_ratio=0.9654140552166973)\n"
     ]
    }
   ],
   "source": [
    "report = run_mapper_reducer(pgnmodels.EvenOddDerivativeCodingModel(), signal_data)\n",
    "print(report)"
   ]
  },
  {
   "cell_type": "code",
   "execution_count": 6,
   "metadata": {},
   "outputs": [
    {
     "data": {
      "application/vnd.jupyter.widget-view+json": {
       "model_id": "707ccf5b0ee447f8ad1a118771f052a7",
       "version_major": 2,
       "version_minor": 0
      },
      "text/plain": [
       "  0%|          | 0/100 [00:00<?, ?it/s]"
      ]
     },
     "metadata": {},
     "output_type": "display_data"
    },
    {
     "name": "stdout",
     "output_type": "stream",
     "text": [
      "ReducerReportResult(macro_avg_bits_symbol=7.909337646963768, macro_avg_ratio=0.4943336029352355, micro_avg_ratio=0.4924578551288394, percentage_better_compressed=100.0, number_better_compressed=100, total_number=100, against_vbz_micro_avg_ratio=1.104839953987466)\n"
     ]
    }
   ],
   "source": [
    "report = run_mapper_reducer(pgnmodels.StabilitySeparatorModel(), signal_data)\n",
    "print(report)"
   ]
  },
  {
   "cell_type": "code",
   "execution_count": 7,
   "metadata": {},
   "outputs": [
    {
     "data": {
      "application/vnd.jupyter.widget-view+json": {
       "model_id": "40fe9f79385d41dea009bee944a937ef",
       "version_major": 2,
       "version_minor": 0
      },
      "text/plain": [
       "  0%|          | 0/100 [00:00<?, ?it/s]"
      ]
     },
     "metadata": {},
     "output_type": "display_data"
    },
    {
     "name": "stdout",
     "output_type": "stream",
     "text": [
      "ReducerReportResult(macro_avg_bits_symbol=7.005632247946626, macro_avg_ratio=0.43785201549666414, micro_avg_ratio=0.43626656643775596, percentage_better_compressed=100.0, number_better_compressed=100, total_number=100, against_vbz_micro_avg_ratio=0.978773570508395)\n"
     ]
    }
   ],
   "source": [
    "report = run_mapper_reducer(pgnmodels.SklearnModel(LinearRegression()), signal_data)\n",
    "print(report)"
   ]
  },
  {
   "cell_type": "code",
   "execution_count": 8,
   "metadata": {},
   "outputs": [
    {
     "data": {
      "application/vnd.jupyter.widget-view+json": {
       "model_id": "134f9806c13b41c3b1e44d2493437aee",
       "version_major": 2,
       "version_minor": 0
      },
      "text/plain": [
       "  0%|          | 0/100 [00:00<?, ?it/s]"
      ]
     },
     "metadata": {},
     "output_type": "display_data"
    },
    {
     "name": "stderr",
     "output_type": "stream",
     "text": [
      "/ens/home01/r/rafael.castelli.ottati/.conda/envs/pgnano/lib/python3.11/site-packages/sklearn/neural_network/_multilayer_perceptron.py:686: ConvergenceWarning: Stochastic Optimizer: Maximum iterations (2000) reached and the optimization hasn't converged yet.\n",
      "  warnings.warn(\n",
      "/ens/home01/r/rafael.castelli.ottati/.conda/envs/pgnano/lib/python3.11/site-packages/sklearn/neural_network/_multilayer_perceptron.py:686: ConvergenceWarning: Stochastic Optimizer: Maximum iterations (2000) reached and the optimization hasn't converged yet.\n",
      "  warnings.warn(\n",
      "/ens/home01/r/rafael.castelli.ottati/.conda/envs/pgnano/lib/python3.11/site-packages/sklearn/neural_network/_multilayer_perceptron.py:686: ConvergenceWarning: Stochastic Optimizer: Maximum iterations (2000) reached and the optimization hasn't converged yet.\n",
      "  warnings.warn(\n",
      "/ens/home01/r/rafael.castelli.ottati/.conda/envs/pgnano/lib/python3.11/site-packages/sklearn/neural_network/_multilayer_perceptron.py:686: ConvergenceWarning: Stochastic Optimizer: Maximum iterations (2000) reached and the optimization hasn't converged yet.\n",
      "  warnings.warn(\n",
      "/ens/home01/r/rafael.castelli.ottati/.conda/envs/pgnano/lib/python3.11/site-packages/sklearn/neural_network/_multilayer_perceptron.py:686: ConvergenceWarning: Stochastic Optimizer: Maximum iterations (2000) reached and the optimization hasn't converged yet.\n",
      "  warnings.warn(\n",
      "/ens/home01/r/rafael.castelli.ottati/.conda/envs/pgnano/lib/python3.11/site-packages/sklearn/neural_network/_multilayer_perceptron.py:686: ConvergenceWarning: Stochastic Optimizer: Maximum iterations (2000) reached and the optimization hasn't converged yet.\n",
      "  warnings.warn(\n",
      "/ens/home01/r/rafael.castelli.ottati/.conda/envs/pgnano/lib/python3.11/site-packages/sklearn/neural_network/_multilayer_perceptron.py:686: ConvergenceWarning: Stochastic Optimizer: Maximum iterations (2000) reached and the optimization hasn't converged yet.\n",
      "  warnings.warn(\n",
      "/ens/home01/r/rafael.castelli.ottati/.conda/envs/pgnano/lib/python3.11/site-packages/sklearn/neural_network/_multilayer_perceptron.py:686: ConvergenceWarning: Stochastic Optimizer: Maximum iterations (2000) reached and the optimization hasn't converged yet.\n",
      "  warnings.warn(\n",
      "/ens/home01/r/rafael.castelli.ottati/.conda/envs/pgnano/lib/python3.11/site-packages/sklearn/neural_network/_multilayer_perceptron.py:686: ConvergenceWarning: Stochastic Optimizer: Maximum iterations (2000) reached and the optimization hasn't converged yet.\n",
      "  warnings.warn(\n",
      "/ens/home01/r/rafael.castelli.ottati/.conda/envs/pgnano/lib/python3.11/site-packages/sklearn/neural_network/_multilayer_perceptron.py:686: ConvergenceWarning: Stochastic Optimizer: Maximum iterations (2000) reached and the optimization hasn't converged yet.\n",
      "  warnings.warn(\n",
      "/ens/home01/r/rafael.castelli.ottati/.conda/envs/pgnano/lib/python3.11/site-packages/sklearn/neural_network/_multilayer_perceptron.py:686: ConvergenceWarning: Stochastic Optimizer: Maximum iterations (2000) reached and the optimization hasn't converged yet.\n",
      "  warnings.warn(\n",
      "/ens/home01/r/rafael.castelli.ottati/.conda/envs/pgnano/lib/python3.11/site-packages/sklearn/neural_network/_multilayer_perceptron.py:686: ConvergenceWarning: Stochastic Optimizer: Maximum iterations (2000) reached and the optimization hasn't converged yet.\n",
      "  warnings.warn(\n",
      "/ens/home01/r/rafael.castelli.ottati/.conda/envs/pgnano/lib/python3.11/site-packages/sklearn/neural_network/_multilayer_perceptron.py:686: ConvergenceWarning: Stochastic Optimizer: Maximum iterations (2000) reached and the optimization hasn't converged yet.\n",
      "  warnings.warn(\n",
      "/ens/home01/r/rafael.castelli.ottati/.conda/envs/pgnano/lib/python3.11/site-packages/sklearn/neural_network/_multilayer_perceptron.py:686: ConvergenceWarning: Stochastic Optimizer: Maximum iterations (2000) reached and the optimization hasn't converged yet.\n",
      "  warnings.warn(\n",
      "/ens/home01/r/rafael.castelli.ottati/.conda/envs/pgnano/lib/python3.11/site-packages/sklearn/neural_network/_multilayer_perceptron.py:686: ConvergenceWarning: Stochastic Optimizer: Maximum iterations (2000) reached and the optimization hasn't converged yet.\n",
      "  warnings.warn(\n",
      "/ens/home01/r/rafael.castelli.ottati/.conda/envs/pgnano/lib/python3.11/site-packages/sklearn/neural_network/_multilayer_perceptron.py:686: ConvergenceWarning: Stochastic Optimizer: Maximum iterations (2000) reached and the optimization hasn't converged yet.\n",
      "  warnings.warn(\n"
     ]
    },
    {
     "name": "stdout",
     "output_type": "stream",
     "text": [
      "ReducerReportResult(macro_avg_bits_symbol=7.6478155193704715, macro_avg_ratio=0.47798846996065447, micro_avg_ratio=0.46552291563556686, percentage_better_compressed=100.0, number_better_compressed=100, total_number=100, against_vbz_micro_avg_ratio=1.0444108289355023)\n"
     ]
    }
   ],
   "source": [
    "report = run_mapper_reducer(pgnmodels.SklearnModel(MLPRegressor(hidden_layer_sizes=[3,3,3], activation='relu', max_iter=2000)), signal_data)\n",
    "print(report)"
   ]
  },
  {
   "cell_type": "code",
   "execution_count": 9,
   "metadata": {},
   "outputs": [
    {
     "data": {
      "application/vnd.jupyter.widget-view+json": {
       "model_id": "ff3bf14c42de40c0874825599fb543e4",
       "version_major": 2,
       "version_minor": 0
      },
      "text/plain": [
       "  0%|          | 0/100 [00:00<?, ?it/s]"
      ]
     },
     "metadata": {},
     "output_type": "display_data"
    },
    {
     "name": "stdout",
     "output_type": "stream",
     "text": [
      "ReducerReportResult(macro_avg_bits_symbol=6.921687166288519, macro_avg_ratio=0.43260544789303246, micro_avg_ratio=0.4286556088702789, percentage_better_compressed=100.0, number_better_compressed=100, total_number=100, against_vbz_micro_avg_ratio=0.9616982209712212)\n"
     ]
    }
   ],
   "source": [
    "report = run_mapper_reducer(pgnmodels.DerivativeContextModel(), signal_data)\n",
    "print(report)"
   ]
  },
  {
   "cell_type": "code",
   "execution_count": 10,
   "metadata": {},
   "outputs": [
    {
     "data": {
      "application/vnd.jupyter.widget-view+json": {
       "model_id": "e1add08dd902498cac981873e136f85e",
       "version_major": 2,
       "version_minor": 0
      },
      "text/plain": [
       "  0%|          | 0/100 [00:00<?, ?it/s]"
      ]
     },
     "metadata": {},
     "output_type": "display_data"
    },
    {
     "name": "stdout",
     "output_type": "stream",
     "text": [
      "ReducerReportResult(macro_avg_bits_symbol=6.931428671779801, macro_avg_ratio=0.43321429198623757, micro_avg_ratio=0.4296627130082971, percentage_better_compressed=100.0, number_better_compressed=100, total_number=100, against_vbz_micro_avg_ratio=0.9639576811015047)\n"
     ]
    }
   ],
   "source": [
    "report = run_mapper_reducer(pgnmodels.DerivativeContextModel2([3]), signal_data)\n",
    "print(report)"
   ]
  },
  {
   "cell_type": "code",
   "execution_count": 11,
   "metadata": {},
   "outputs": [
    {
     "data": {
      "application/vnd.jupyter.widget-view+json": {
       "model_id": "e0eb2398478647ea861965fb5178f8ed",
       "version_major": 2,
       "version_minor": 0
      },
      "text/plain": [
       "  0%|          | 0/100 [00:00<?, ?it/s]"
      ]
     },
     "metadata": {},
     "output_type": "display_data"
    },
    {
     "name": "stdout",
     "output_type": "stream",
     "text": [
      "ReducerReportResult(macro_avg_bits_symbol=7.330052333114108, macro_avg_ratio=0.45812827081963176, micro_avg_ratio=0.4548132838826559, percentage_better_compressed=100.0, number_better_compressed=100, total_number=100, against_vbz_micro_avg_ratio=1.0203835361836928)\n"
     ]
    }
   ],
   "source": [
    "report = run_mapper_reducer(pgnmodels.DerivativeContextModel3(), signal_data)\n",
    "print(report)"
   ]
  },
  {
   "cell_type": "code",
   "execution_count": 12,
   "metadata": {},
   "outputs": [
    {
     "data": {
      "application/vnd.jupyter.widget-view+json": {
       "model_id": "1c489b05b31f47f4bfe8305623bfa6dc",
       "version_major": 2,
       "version_minor": 0
      },
      "text/plain": [
       "  0%|          | 0/100 [00:00<?, ?it/s]"
      ]
     },
     "metadata": {},
     "output_type": "display_data"
    },
    {
     "name": "stdout",
     "output_type": "stream",
     "text": [
      "ReducerReportResult(macro_avg_bits_symbol=6.974589101376467, macro_avg_ratio=0.4359118188360292, micro_avg_ratio=0.4291362347016805, percentage_better_compressed=100.0, number_better_compressed=100, total_number=100, against_vbz_micro_avg_ratio=0.9627765155215476)\n"
     ]
    }
   ],
   "source": [
    "report = run_mapper_reducer(pgnmodels.DerivativeContextModel4([3]), signal_data)\n",
    "print(report)"
   ]
  },
  {
   "cell_type": "code",
   "execution_count": 13,
   "metadata": {},
   "outputs": [
    {
     "data": {
      "application/vnd.jupyter.widget-view+json": {
       "model_id": "1285a7901a1b4fc49576904698cc0400",
       "version_major": 2,
       "version_minor": 0
      },
      "text/plain": [
       "  0%|          | 0/100 [00:00<?, ?it/s]"
      ]
     },
     "metadata": {},
     "output_type": "display_data"
    },
    {
     "name": "stdout",
     "output_type": "stream",
     "text": [
      "ReducerReportResult(macro_avg_bits_symbol=7.011101623224224, macro_avg_ratio=0.438193851451514, micro_avg_ratio=0.4334021962277486, percentage_better_compressed=100.0, number_better_compressed=100, total_number=100, against_vbz_micro_avg_ratio=0.9716464971755802)\n"
     ]
    }
   ],
   "source": [
    "report = run_mapper_reducer(pgnmodels.DerivativeContextModel4([3]), chunked_data)\n",
    "print(report)"
   ]
  },
  {
   "cell_type": "code",
   "execution_count": 14,
   "metadata": {},
   "outputs": [
    {
     "data": {
      "application/vnd.jupyter.widget-view+json": {
       "model_id": "758eeb9eefbf401194314576b42e9eca",
       "version_major": 2,
       "version_minor": 0
      },
      "text/plain": [
       "  0%|          | 0/100 [00:00<?, ?it/s]"
      ]
     },
     "metadata": {},
     "output_type": "display_data"
    },
    {
     "name": "stdout",
     "output_type": "stream",
     "text": [
      "ReducerReportResult(macro_avg_bits_symbol=7.008642800576609, macro_avg_ratio=0.43804017503603804, micro_avg_ratio=0.42795518855228615, percentage_better_compressed=100.0, number_better_compressed=100, total_number=100, against_vbz_micro_avg_ratio=0.9601268126895915)\n"
     ]
    }
   ],
   "source": [
    "report = run_mapper_reducer(pgnmodels.DerivativeContextModel4([10, 20]), signal_data)\n",
    "print(report)"
   ]
  },
  {
   "cell_type": "code",
   "execution_count": 15,
   "metadata": {},
   "outputs": [
    {
     "data": {
      "application/vnd.jupyter.widget-view+json": {
       "model_id": "8cbeef29e217494eb45bff386433cecb",
       "version_major": 2,
       "version_minor": 0
      },
      "text/plain": [
       "  0%|          | 0/100 [00:00<?, ?it/s]"
      ]
     },
     "metadata": {},
     "output_type": "display_data"
    },
    {
     "name": "stdout",
     "output_type": "stream",
     "text": [
      "ReducerReportResult(macro_avg_bits_symbol=7.075543949026075, macro_avg_ratio=0.4422214968141297, micro_avg_ratio=0.4302046656871642, percentage_better_compressed=100.0, number_better_compressed=100, total_number=100, against_vbz_micro_avg_ratio=0.965173563773589)\n"
     ]
    }
   ],
   "source": [
    "report = run_mapper_reducer(pgnmodels.DerivativeContextModel4([3,5,10]), signal_data)\n",
    "print(report)"
   ]
  },
  {
   "cell_type": "code",
   "execution_count": 16,
   "metadata": {},
   "outputs": [
    {
     "data": {
      "application/vnd.jupyter.widget-view+json": {
       "model_id": "4e977358ee874c7ea0374dc40ea7d9a7",
       "version_major": 2,
       "version_minor": 0
      },
      "text/plain": [
       "  0%|          | 0/100 [00:00<?, ?it/s]"
      ]
     },
     "metadata": {},
     "output_type": "display_data"
    },
    {
     "name": "stdout",
     "output_type": "stream",
     "text": [
      "ReducerReportResult(macro_avg_bits_symbol=7.116497244945722, macro_avg_ratio=0.44478107780910764, micro_avg_ratio=0.430049878550282, percentage_better_compressed=100.0, number_better_compressed=100, total_number=100, against_vbz_micro_avg_ratio=0.9648262954512142)\n"
     ]
    }
   ],
   "source": [
    "report = run_mapper_reducer(pgnmodels.DerivativeContextModel4([3,5,10,20]), signal_data)\n",
    "print(report)"
   ]
  },
  {
   "cell_type": "code",
   "execution_count": 17,
   "metadata": {},
   "outputs": [
    {
     "data": {
      "application/vnd.jupyter.widget-view+json": {
       "model_id": "5d83ed008f724b9d86402a5bbf293b7b",
       "version_major": 2,
       "version_minor": 0
      },
      "text/plain": [
       "  0%|          | 0/100 [00:00<?, ?it/s]"
      ]
     },
     "metadata": {},
     "output_type": "display_data"
    },
    {
     "name": "stdout",
     "output_type": "stream",
     "text": [
      "ReducerReportResult(macro_avg_bits_symbol=7.224110367478616, macro_avg_ratio=0.4515068979674135, micro_avg_ratio=0.4320568524208502, percentage_better_compressed=100.0, number_better_compressed=100, total_number=100, against_vbz_micro_avg_ratio=0.9693289851651037)\n"
     ]
    }
   ],
   "source": [
    "report = run_mapper_reducer(pgnmodels.DerivativeContextModel4([1,2,3,5,10,20,30]), signal_data)\n",
    "print(report)"
   ]
  },
  {
   "cell_type": "code",
   "execution_count": 18,
   "metadata": {},
   "outputs": [],
   "source": [
    "res = linear_parameter_search([\n",
    "    [1],\n",
    "    [2],\n",
    "    [3],\n",
    "    [5],\n",
    "    [10],\n",
    "    [3,5,10],\n",
    "    [1,2,3],\n",
    "    [3,5,10,20],\n",
    "    [1,2,3,5,10,20,30]\n",
    "], signal_data)\n",
    "print(res)"
   ]
  },
  {
   "cell_type": "code",
   "execution_count": null,
   "metadata": {},
   "outputs": [],
   "source": [
    "report = run_mapper_reducer(pgnmodels.RunCodingModel(), signal_data)\n",
    "print(report)"
   ]
  },
  {
   "cell_type": "code",
   "execution_count": null,
   "metadata": {},
   "outputs": [],
   "source": [
    "report = run_mapper_reducer(pgnmodels.CppModel(), chunked_data)\n",
    "#print(len(list(filter(lambda x: x.compression_ratio > 1, res))))\n",
    "print(report)"
   ]
  },
  {
   "cell_type": "code",
   "execution_count": null,
   "metadata": {},
   "outputs": [],
   "source": [
    "def mapper_nibble(x):\n",
    "    signal = x[1]\n",
    "    idx = x[0]\n",
    "    model = pgnmodels.NibbleSimpleErrorModel()\n",
    "    vbz_model = pgnmodels.VbzModel()\n",
    "    signal_length = len(signal)\n",
    "    code_len = model.get_code_lenght(signal)\n",
    "    uncompressed_bits = signal_length * 16\n",
    "    compression_ratio = code_len / uncompressed_bits\n",
    "    is_better_compressed = code_len < uncompressed_bits\n",
    "    return MapperReportResult(idx, code_len, signal_length, uncompressed_bits, compression_ratio, is_better_compressed, vbz_model.get_code_lenght(signal))\n",
    "\n",
    "\n",
    "with mp.Pool(os.cpu_count()) as p:\n",
    "    res = list(tqdm(p.imap(mapper_nibble,enumerate(signal_data)), total=len(signal_data)))\n",
    "\n",
    "print(len(list(filter(lambda x: x.compression_ratio > 1, res))))\n",
    "\n",
    "report = ReducerReportResult(\n",
    "    macro_avg_ratio=st.mean(map(lambda x: x.compression_ratio, res)),\n",
    "    micro_avg_ratio= (sum(map(lambda x: x.code_len, res))) / (sum(map(lambda x: x.uncompressed_bits, res))),\n",
    "    number_better_compressed=sum(map(lambda x: 1 if x.is_better_compressed else 0, res)),\n",
    "    total_number=len(res),\n",
    "    percentage_better_compressed=100*(sum(map(lambda x: 1 if x.is_better_compressed else 0, res)) / len(res)),\n",
    "    against_vbz_micro_avg_ratio= (sum(map(lambda x: x.code_len, res))) / (sum(map(lambda x: x.vbz_compressed_bits, res)))\n",
    ")\n",
    "print(report)"
   ]
  },
  {
   "cell_type": "code",
   "execution_count": null,
   "metadata": {},
   "outputs": [],
   "source": [
    "start=2250\n",
    "size=250\n",
    "limit=start + size\n",
    "one_signal = signal_data[0]\n",
    "prev = 0\n",
    "predicted_signal = []\n",
    "for signal in one_signal:\n",
    "    predicted_signal.append(prev)\n",
    "    prev = signal\n",
    "#plt.plot(one_signal[start:limit])\n",
    "#plt.plot(predicted_signal[start:limit])\n",
    "plt.plot(list(map(lambda x: abs(x[0] - x[1]), zip(one_signal[start:limit], predicted_signal[start:limit]))))\n"
   ]
  },
  {
   "cell_type": "code",
   "execution_count": null,
   "metadata": {},
   "outputs": [],
   "source": [
    "start=2250\n",
    "size=50\n",
    "model = SklearnModel(LinearRegression())\n",
    "one_signal = signal_data[0]\n",
    "abstract_plot(model, one_signal, start, size)"
   ]
  },
  {
   "cell_type": "code",
   "execution_count": null,
   "metadata": {},
   "outputs": [],
   "source": [
    "start=2250\n",
    "size=250\n",
    "model = SklearnModel(MLPRegressor(hidden_layer_sizes=[3,3,3], activation='relu', max_iter=2000))\n",
    "one_signal = signal_data[0]\n",
    "abstract_plot(model, one_signal, start, size)"
   ]
  },
  {
   "cell_type": "code",
   "execution_count": null,
   "metadata": {},
   "outputs": [],
   "source": [
    "mapped_signal = []\n",
    "prev_val = 0\n",
    "for x in one_signal:\n",
    "    mapped_signal.append(int(x) - prev_val)\n",
    "    prev_val = int(x)\n",
    "mapped_signal = list(map(lambda x: 2*x if x >= 0 else -2*x - 1, mapped_signal[1:250]))\n",
    "plt.plot(mapped_signal)\n",
    "print(f\"mean: {st.mean(mapped_signal)}\")\n",
    "print(f\"stddev: {st.stdev(mapped_signal)}\")"
   ]
  },
  {
   "cell_type": "code",
   "execution_count": null,
   "metadata": {},
   "outputs": [],
   "source": [
    "low_hg, high_hg = pgnprim.split_by_bytes_hg(signal_data[0])\n",
    "hg1, hg2, hg3, hg4 = pgnprim.split_by_nibbles_hg(signal_data[0])"
   ]
  },
  {
   "cell_type": "code",
   "execution_count": null,
   "metadata": {},
   "outputs": [],
   "source": [
    "low_x = low_hg.get_indexes()\n",
    "low_y = low_hg.get_data()\n",
    "\n",
    "plt.plot(low_x, low_y)"
   ]
  },
  {
   "cell_type": "code",
   "execution_count": null,
   "metadata": {},
   "outputs": [],
   "source": [
    "high_x = high_hg.get_indexes()\n",
    "high_y = high_hg.get_data()\n",
    "\n",
    "plt.plot(high_x, high_y)"
   ]
  },
  {
   "cell_type": "code",
   "execution_count": null,
   "metadata": {},
   "outputs": [],
   "source": [
    "nibble1_x = hg1.get_indexes()\n",
    "nibble1_y = hg1.get_data()\n",
    "\n",
    "plt.plot(nibble1_x, nibble1_y)"
   ]
  },
  {
   "cell_type": "code",
   "execution_count": null,
   "metadata": {},
   "outputs": [],
   "source": [
    "nibble2_x = hg2.get_indexes()\n",
    "nibble2_y = hg2.get_data()\n",
    "\n",
    "plt.plot(nibble2_x, nibble2_y)"
   ]
  },
  {
   "cell_type": "code",
   "execution_count": null,
   "metadata": {},
   "outputs": [],
   "source": [
    "nibble3_x = hg3.get_indexes()\n",
    "nibble3_y = hg3.get_data()\n",
    "\n",
    "plt.plot(nibble3_x, nibble3_y)"
   ]
  },
  {
   "cell_type": "code",
   "execution_count": null,
   "metadata": {},
   "outputs": [],
   "source": [
    "nibble4_x = hg4.get_indexes()\n",
    "nibble4_y = hg4.get_data()\n",
    "\n",
    "plt.plot(nibble4_x, nibble4_y)"
   ]
  },
  {
   "cell_type": "code",
   "execution_count": null,
   "metadata": {},
   "outputs": [],
   "source": [
    "# Estimate code lenght\n",
    "d = signal_data[:1000]\n",
    "#print(len(list(filter(lambda x: x < 1 << 12,d))))\n",
    "model = pgnprim.CppModel()\n",
    "model.get_code_lenght(d)"
   ]
  }
 ],
 "metadata": {
  "kernelspec": {
   "display_name": "pgnano",
   "language": "python",
   "name": "python3"
  },
  "language_info": {
   "codemirror_mode": {
    "name": "ipython",
    "version": 3
   },
   "file_extension": ".py",
   "mimetype": "text/x-python",
   "name": "python",
   "nbconvert_exporter": "python",
   "pygments_lexer": "ipython3",
   "version": "3.11.4"
  },
  "orig_nbformat": 4
 },
 "nbformat": 4,
 "nbformat_minor": 2
}
