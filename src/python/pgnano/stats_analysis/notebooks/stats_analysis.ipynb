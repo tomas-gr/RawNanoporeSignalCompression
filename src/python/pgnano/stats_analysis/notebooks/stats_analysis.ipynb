{
 "cells": [
  {
   "cell_type": "code",
   "execution_count": 1,
   "metadata": {},
   "outputs": [],
   "source": [
    "import pod5\n",
    "import numpy as np\n",
    "import matplotlib.pyplot as plt\n",
    "import pgnano.stats_analysis.primitives as pgnprim\n",
    "import pgnano.stats_analysis.models as pgnmodels\n",
    "from pgnano.stats_analysis.map_reduce_stats import abstract_mapper, run_mapper, abstract_reducer, run_mapper_reducer, ReducerReportResult, MapperReportResult\n",
    "import pgnano.stats_analysis.jupyter_data_preparation as pgndata\n",
    "import os\n",
    "from pgnano.constants.constants import stats_analysis_root_path\n",
    "from typing import List\n",
    "import statistics as st\n",
    "import multiprocessing as mp\n",
    "from collections import namedtuple\n",
    "from tqdm.auto import tqdm\n",
    "from sklearn.linear_model import LinearRegression\n",
    "from sklearn.neural_network import MLPRegressor\n",
    "from pgnano.stats_analysis.abstract_plotter import abstract_plot\n",
    "from pgnano.stats_analysis.models import SklearnModel\n",
    "from pgnano.stats_analysis.parameter_search import linear_parameter_search"
   ]
  },
  {
   "cell_type": "code",
   "execution_count": 2,
   "metadata": {},
   "outputs": [
    {
     "name": "stdout",
     "output_type": "stream",
     "text": [
      "['/data/datananoraw/data_analysis/10_4_1/2d6ce589-PAG70058_pass_90cff557_229fb1c2_1643.pod5', '/data/datananoraw/data_analysis/10_4_1/58662236-PAG70133_pass_976dfe21_5dadfada_5.pod5', '/data/datananoraw/data_analysis/10_4_1/679e8449-PAG70058_pass_90cff557_229fb1c2_1581.pod5', '/data/datananoraw/data_analysis/10_4_1/7646a9e4-PAG65784_pass_f306681d_16a70748_508.pod5', '/data/datananoraw/data_analysis/10_4_1/889add85-PAG67404_fail_a8a15ce6_4a74c11f_28.pod5', '/data/datananoraw/data_analysis/10_4_1/898fa111-PAG68757_fail_39c39833_26077d5d_167.pod5', '/data/datananoraw/data_analysis/10_4_1/8ba56eeb-PAG65784_pass_f306681d_16a70748_1319.pod5', '/data/datananoraw/data_analysis/10_4_1/a60ded57-PAG65902_pass_96491aed_0156c9a3_1335.pod5', '/data/datananoraw/data_analysis/10_4_1/a7ff4244-PAG68757_pass_39c39833_26077d5d_944.pod5', '/data/datananoraw/data_analysis/10_4_1/af5d6be7-PAG70133_pass_976dfe21_5dadfada_1065.pod5', '/data/datananoraw/data_analysis/10_4_1/c2f433b8-PAG65902_fail_96491aed_0156c9a3_285.pod5', '/data/datananoraw/data_analysis/10_4_1/c82ed1c7-PAG65902_pass_96491aed_0156c9a3_1181.pod5', '/data/datananoraw/data_analysis/10_4_1/d7190107-PAG65902_pass_96491aed_0156c9a3_1138.pod5', '/data/datananoraw/data_analysis/10_4_1/f02f14e8-PAG67404_pass_a8a15ce6_4a74c11f_992.pod5', '/data/datananoraw/data_analysis/10_4_1/f8c2119e-PAG65784_pass_f306681d_16a70748_1327.pod5']\n",
      "[('/data/datananoraw/data_analysis/10_4_1/d7190107-PAG65902_pass_96491aed_0156c9a3_1138.pod5', 119782712), ('/data/datananoraw/data_analysis/10_4_1/af5d6be7-PAG70133_pass_976dfe21_5dadfada_1065.pod5', 186447520), ('/data/datananoraw/data_analysis/10_4_1/8ba56eeb-PAG65784_pass_f306681d_16a70748_1319.pod5', 252533552), ('/data/datananoraw/data_analysis/10_4_1/2d6ce589-PAG70058_pass_90cff557_229fb1c2_1643.pod5', 448674424), ('/data/datananoraw/data_analysis/10_4_1/c82ed1c7-PAG65902_pass_96491aed_0156c9a3_1181.pod5', 461132536), ('/data/datananoraw/data_analysis/10_4_1/a7ff4244-PAG68757_pass_39c39833_26077d5d_944.pod5', 657792792), ('/data/datananoraw/data_analysis/10_4_1/679e8449-PAG70058_pass_90cff557_229fb1c2_1581.pod5', 678635904), ('/data/datananoraw/data_analysis/10_4_1/f8c2119e-PAG65784_pass_f306681d_16a70748_1327.pod5', 805471656), ('/data/datananoraw/data_analysis/10_4_1/58662236-PAG70133_pass_976dfe21_5dadfada_5.pod5', 923506952), ('/data/datananoraw/data_analysis/10_4_1/a60ded57-PAG65902_pass_96491aed_0156c9a3_1335.pod5', 1039980640), ('/data/datananoraw/data_analysis/10_4_1/898fa111-PAG68757_fail_39c39833_26077d5d_167.pod5', 1105195664), ('/data/datananoraw/data_analysis/10_4_1/889add85-PAG67404_fail_a8a15ce6_4a74c11f_28.pod5', 1228990584), ('/data/datananoraw/data_analysis/10_4_1/c2f433b8-PAG65902_fail_96491aed_0156c9a3_285.pod5', 1377777384), ('/data/datananoraw/data_analysis/10_4_1/f02f14e8-PAG67404_pass_a8a15ce6_4a74c11f_992.pod5', 1515608144), ('/data/datananoraw/data_analysis/10_4_1/7646a9e4-PAG65784_pass_f306681d_16a70748_508.pod5', 1594685488)]\n"
     ]
    }
   ],
   "source": [
    "signal_data, chunked_data = pgndata.flatten_sample_data(pgnprim.PGPoreType.P10_4_1, 100)"
   ]
  },
  {
   "cell_type": "code",
   "execution_count": 3,
   "metadata": {},
   "outputs": [
    {
     "data": {
      "application/vnd.jupyter.widget-view+json": {
       "model_id": "c054836776a741079364881dd860c33d",
       "version_major": 2,
       "version_minor": 0
      },
      "text/plain": [
       "  0%|          | 0/100 [00:00<?, ?it/s]"
      ]
     },
     "metadata": {},
     "output_type": "display_data"
    },
    {
     "name": "stdout",
     "output_type": "stream",
     "text": [
      "ReducerReportResult(macro_avg_bits_symbol=7.210843242378484, macro_avg_ratio=0.45067770264865525, micro_avg_ratio=0.4258255925253143, percentage_better_compressed=100.0, number_better_compressed=100, total_number=100, against_vbz_micro_avg_ratio=0.9679917836466941)\n"
     ]
    }
   ],
   "source": [
    "report = run_mapper_reducer(pgnmodels.CppModel(), signal_data)\n",
    "print(report)"
   ]
  },
  {
   "cell_type": "code",
   "execution_count": 3,
   "metadata": {},
   "outputs": [
    {
     "data": {
      "application/vnd.jupyter.widget-view+json": {
       "model_id": "25bc7ba22d43400cb1b700c7ca6b0262",
       "version_major": 2,
       "version_minor": 0
      },
      "text/plain": [
       "  0%|          | 0/100 [00:00<?, ?it/s]"
      ]
     },
     "metadata": {},
     "output_type": "display_data"
    },
    {
     "name": "stdout",
     "output_type": "stream",
     "text": [
      "ReducerReportResult(macro_avg_bits_symbol=7.424088145632854, macro_avg_ratio=0.46400550910205335, micro_avg_ratio=0.43990620552698384, percentage_better_compressed=100.0, number_better_compressed=100, total_number=100, against_vbz_micro_avg_ratio=1.0)\n"
     ]
    }
   ],
   "source": [
    "report = run_mapper_reducer(pgnmodels.VbzModel(), signal_data)\n",
    "print(report)"
   ]
  },
  {
   "cell_type": "code",
   "execution_count": 4,
   "metadata": {},
   "outputs": [
    {
     "data": {
      "application/vnd.jupyter.widget-view+json": {
       "model_id": "a8acb4e1c65e4a72a33f9e08c2e9281f",
       "version_major": 2,
       "version_minor": 0
      },
      "text/plain": [
       "  0%|          | 0/100 [00:00<?, ?it/s]"
      ]
     },
     "metadata": {},
     "output_type": "display_data"
    },
    {
     "name": "stdout",
     "output_type": "stream",
     "text": [
      "ReducerReportResult(macro_avg_bits_symbol=7.3364889444313235, macro_avg_ratio=0.4585305590269577, micro_avg_ratio=0.42669899538980655, percentage_better_compressed=100.0, number_better_compressed=100, total_number=100, against_vbz_micro_avg_ratio=0.9699772133894866)\n"
     ]
    }
   ],
   "source": [
    "report = run_mapper_reducer(pgnmodels.EvenOddTimestepCodingModel(), signal_data)\n",
    "print(report)"
   ]
  },
  {
   "cell_type": "code",
   "execution_count": 5,
   "metadata": {},
   "outputs": [
    {
     "data": {
      "application/vnd.jupyter.widget-view+json": {
       "model_id": "91b6bd9d51a245c487f3f67bf98d96d3",
       "version_major": 2,
       "version_minor": 0
      },
      "text/plain": [
       "  0%|          | 0/100 [00:00<?, ?it/s]"
      ]
     },
     "metadata": {},
     "output_type": "display_data"
    },
    {
     "name": "stdout",
     "output_type": "stream",
     "text": [
      "ReducerReportResult(macro_avg_bits_symbol=7.336023728889078, macro_avg_ratio=0.45850148305556737, micro_avg_ratio=0.42669042598318685, percentage_better_compressed=100.0, number_better_compressed=100, total_number=100, against_vbz_micro_avg_ratio=0.9699577333127974)\n"
     ]
    }
   ],
   "source": [
    "report = run_mapper_reducer(pgnmodels.EvenOddDerivativeCodingModel(), signal_data)\n",
    "print(report)"
   ]
  },
  {
   "cell_type": "code",
   "execution_count": 6,
   "metadata": {},
   "outputs": [
    {
     "data": {
      "application/vnd.jupyter.widget-view+json": {
       "model_id": "9e60d97121374fc4985d6694c7ee55a3",
       "version_major": 2,
       "version_minor": 0
      },
      "text/plain": [
       "  0%|          | 0/100 [00:00<?, ?it/s]"
      ]
     },
     "metadata": {},
     "output_type": "display_data"
    },
    {
     "name": "stdout",
     "output_type": "stream",
     "text": [
      "ReducerReportResult(macro_avg_bits_symbol=8.009715139720191, macro_avg_ratio=0.5006071962325119, micro_avg_ratio=0.4831326405071878, percentage_better_compressed=100.0, number_better_compressed=100, total_number=100, against_vbz_micro_avg_ratio=1.0982628442997777)\n"
     ]
    }
   ],
   "source": [
    "report = run_mapper_reducer(pgnmodels.StabilitySeparatorModel(), signal_data)\n",
    "print(report)"
   ]
  },
  {
   "cell_type": "code",
   "execution_count": 7,
   "metadata": {},
   "outputs": [
    {
     "data": {
      "application/vnd.jupyter.widget-view+json": {
       "model_id": "495b218541b24ca2a0db668ef7dd9ef0",
       "version_major": 2,
       "version_minor": 0
      },
      "text/plain": [
       "  0%|          | 0/100 [00:00<?, ?it/s]"
      ]
     },
     "metadata": {},
     "output_type": "display_data"
    },
    {
     "name": "stdout",
     "output_type": "stream",
     "text": [
      "ReducerReportResult(macro_avg_bits_symbol=7.299081936829318, macro_avg_ratio=0.4561926210518324, micro_avg_ratio=0.4291617765229164, percentage_better_compressed=100.0, number_better_compressed=100, total_number=100, against_vbz_micro_avg_ratio=0.9755756366491896)\n"
     ]
    }
   ],
   "source": [
    "report = run_mapper_reducer(pgnmodels.SklearnModel(LinearRegression()), signal_data)\n",
    "print(report)"
   ]
  },
  {
   "cell_type": "code",
   "execution_count": 8,
   "metadata": {},
   "outputs": [
    {
     "data": {
      "application/vnd.jupyter.widget-view+json": {
       "model_id": "4f9bf3ecccde48659807258748bcc0f5",
       "version_major": 2,
       "version_minor": 0
      },
      "text/plain": [
       "  0%|          | 0/100 [00:00<?, ?it/s]"
      ]
     },
     "metadata": {},
     "output_type": "display_data"
    },
    {
     "name": "stderr",
     "output_type": "stream",
     "text": [
      "/ens/home01/r/rafael.castelli.ottati/.conda/envs/pgnano/lib/python3.11/site-packages/sklearn/neural_network/_multilayer_perceptron.py:686: ConvergenceWarning: Stochastic Optimizer: Maximum iterations (2000) reached and the optimization hasn't converged yet.\n",
      "  warnings.warn(\n",
      "/ens/home01/r/rafael.castelli.ottati/.conda/envs/pgnano/lib/python3.11/site-packages/sklearn/neural_network/_multilayer_perceptron.py:686: ConvergenceWarning: Stochastic Optimizer: Maximum iterations (2000) reached and the optimization hasn't converged yet.\n",
      "  warnings.warn(\n",
      "/ens/home01/r/rafael.castelli.ottati/.conda/envs/pgnano/lib/python3.11/site-packages/sklearn/neural_network/_multilayer_perceptron.py:686: ConvergenceWarning: Stochastic Optimizer: Maximum iterations (2000) reached and the optimization hasn't converged yet.\n",
      "  warnings.warn(\n"
     ]
    },
    {
     "name": "stdout",
     "output_type": "stream",
     "text": [
      "ReducerReportResult(macro_avg_bits_symbol=7.401239189794975, macro_avg_ratio=0.4625774493621859, micro_avg_ratio=0.4359538210886711, percentage_better_compressed=100.0, number_better_compressed=100, total_number=100, against_vbz_micro_avg_ratio=0.9910153928527151)\n"
     ]
    }
   ],
   "source": [
    "report = run_mapper_reducer(pgnmodels.SklearnModel(MLPRegressor(hidden_layer_sizes=[3,3,3], activation='relu', max_iter=2000)), signal_data)\n",
    "print(report)"
   ]
  },
  {
   "cell_type": "code",
   "execution_count": 9,
   "metadata": {},
   "outputs": [
    {
     "data": {
      "application/vnd.jupyter.widget-view+json": {
       "model_id": "5c0990bcd6ef4204a790bf65ae09bde4",
       "version_major": 2,
       "version_minor": 0
      },
      "text/plain": [
       "  0%|          | 0/100 [00:00<?, ?it/s]"
      ]
     },
     "metadata": {},
     "output_type": "display_data"
    },
    {
     "name": "stdout",
     "output_type": "stream",
     "text": [
      "ReducerReportResult(macro_avg_bits_symbol=7.30282836490671, macro_avg_ratio=0.4564267728066694, micro_avg_ratio=0.4241537852972257, percentage_better_compressed=100.0, number_better_compressed=100, total_number=100, against_vbz_micro_avg_ratio=0.9641914116421986)\n"
     ]
    }
   ],
   "source": [
    "report = run_mapper_reducer(pgnmodels.DerivativeContextModel(), signal_data)\n",
    "print(report)"
   ]
  },
  {
   "cell_type": "code",
   "execution_count": 10,
   "metadata": {},
   "outputs": [
    {
     "data": {
      "application/vnd.jupyter.widget-view+json": {
       "model_id": "1e9bb1201fce4b98834d5f1b4d5dd8fc",
       "version_major": 2,
       "version_minor": 0
      },
      "text/plain": [
       "  0%|          | 0/100 [00:00<?, ?it/s]"
      ]
     },
     "metadata": {},
     "output_type": "display_data"
    },
    {
     "name": "stdout",
     "output_type": "stream",
     "text": [
      "ReducerReportResult(macro_avg_bits_symbol=7.296502324009933, macro_avg_ratio=0.4560313952506208, micro_avg_ratio=0.42596288335111027, percentage_better_compressed=100.0, number_better_compressed=100, total_number=100, against_vbz_micro_avg_ratio=0.9683038747790107)\n"
     ]
    }
   ],
   "source": [
    "report = run_mapper_reducer(pgnmodels.DerivativeContextModel2([3]), signal_data)\n",
    "print(report)"
   ]
  },
  {
   "cell_type": "code",
   "execution_count": 11,
   "metadata": {},
   "outputs": [
    {
     "data": {
      "application/vnd.jupyter.widget-view+json": {
       "model_id": "7dd503119d114a8cb27d940d4db0ef1a",
       "version_major": 2,
       "version_minor": 0
      },
      "text/plain": [
       "  0%|          | 0/100 [00:00<?, ?it/s]"
      ]
     },
     "metadata": {},
     "output_type": "display_data"
    },
    {
     "name": "stdout",
     "output_type": "stream",
     "text": [
      "ReducerReportResult(macro_avg_bits_symbol=7.6641131839297385, macro_avg_ratio=0.47900707399560866, micro_avg_ratio=0.44349372431396844, percentage_better_compressed=100.0, number_better_compressed=100, total_number=100, against_vbz_micro_avg_ratio=1.008155190224441)\n"
     ]
    }
   ],
   "source": [
    "report = run_mapper_reducer(pgnmodels.DerivativeContextModel3(), signal_data)\n",
    "print(report)"
   ]
  },
  {
   "cell_type": "code",
   "execution_count": 12,
   "metadata": {},
   "outputs": [
    {
     "data": {
      "application/vnd.jupyter.widget-view+json": {
       "model_id": "ceb0f56cc2e4428c8ea9056391229e83",
       "version_major": 2,
       "version_minor": 0
      },
      "text/plain": [
       "  0%|          | 0/100 [00:00<?, ?it/s]"
      ]
     },
     "metadata": {},
     "output_type": "display_data"
    },
    {
     "name": "stdout",
     "output_type": "stream",
     "text": [
      "ReducerReportResult(macro_avg_bits_symbol=7.430518255000288, macro_avg_ratio=0.464407390937518, micro_avg_ratio=0.424550670759657, percentage_better_compressed=100.0, number_better_compressed=100, total_number=100, against_vbz_micro_avg_ratio=0.9650936163791286)\n"
     ]
    }
   ],
   "source": [
    "report = run_mapper_reducer(pgnmodels.DerivativeContextModel4([3]), signal_data)\n",
    "print(report)"
   ]
  },
  {
   "cell_type": "code",
   "execution_count": 13,
   "metadata": {},
   "outputs": [
    {
     "data": {
      "application/vnd.jupyter.widget-view+json": {
       "model_id": "57d4c2c32f3a41429e3c4f16c6715f25",
       "version_major": 2,
       "version_minor": 0
      },
      "text/plain": [
       "  0%|          | 0/100 [00:00<?, ?it/s]"
      ]
     },
     "metadata": {},
     "output_type": "display_data"
    },
    {
     "name": "stdout",
     "output_type": "stream",
     "text": [
      "ReducerReportResult(macro_avg_bits_symbol=6.9634104043190215, macro_avg_ratio=0.43521315026993884, micro_avg_ratio=0.4215640746442784, percentage_better_compressed=100.0, number_better_compressed=100, total_number=100, against_vbz_micro_avg_ratio=0.9760073417390291)\n"
     ]
    }
   ],
   "source": [
    "report = run_mapper_reducer(pgnmodels.DerivativeContextModel4([3]), chunked_data)\n",
    "print(report)"
   ]
  },
  {
   "cell_type": "code",
   "execution_count": 14,
   "metadata": {},
   "outputs": [
    {
     "data": {
      "application/vnd.jupyter.widget-view+json": {
       "model_id": "e7e848098ccb42c28b89e4e230c069a0",
       "version_major": 2,
       "version_minor": 0
      },
      "text/plain": [
       "  0%|          | 0/100 [00:00<?, ?it/s]"
      ]
     },
     "metadata": {},
     "output_type": "display_data"
    },
    {
     "name": "stdout",
     "output_type": "stream",
     "text": [
      "ReducerReportResult(macro_avg_bits_symbol=7.601587218012406, macro_avg_ratio=0.47509920112577536, micro_avg_ratio=0.4237844784879027, percentage_better_compressed=100.0, number_better_compressed=100, total_number=100, against_vbz_micro_avg_ratio=0.9633518990263659)\n"
     ]
    }
   ],
   "source": [
    "report = run_mapper_reducer(pgnmodels.DerivativeContextModel4([10, 20]), signal_data)\n",
    "print(report)"
   ]
  },
  {
   "cell_type": "code",
   "execution_count": 15,
   "metadata": {},
   "outputs": [
    {
     "data": {
      "application/vnd.jupyter.widget-view+json": {
       "model_id": "1b6913833c7e45e6855afc92423b6119",
       "version_major": 2,
       "version_minor": 0
      },
      "text/plain": [
       "  0%|          | 0/100 [00:00<?, ?it/s]"
      ]
     },
     "metadata": {},
     "output_type": "display_data"
    },
    {
     "name": "stdout",
     "output_type": "stream",
     "text": [
      "ReducerReportResult(macro_avg_bits_symbol=7.672123344091486, macro_avg_ratio=0.4795077090057179, micro_avg_ratio=0.42571016324269845, percentage_better_compressed=100.0, number_better_compressed=100, total_number=100, against_vbz_micro_avg_ratio=0.9677293884334291)\n"
     ]
    }
   ],
   "source": [
    "report = run_mapper_reducer(pgnmodels.DerivativeContextModel4([3,5,10]), signal_data)\n",
    "print(report)"
   ]
  },
  {
   "cell_type": "code",
   "execution_count": 16,
   "metadata": {},
   "outputs": [
    {
     "data": {
      "application/vnd.jupyter.widget-view+json": {
       "model_id": "2bf14dd7e0664d6db31293a44a84cead",
       "version_major": 2,
       "version_minor": 0
      },
      "text/plain": [
       "  0%|          | 0/100 [00:00<?, ?it/s]"
      ]
     },
     "metadata": {},
     "output_type": "display_data"
    },
    {
     "name": "stdout",
     "output_type": "stream",
     "text": [
      "ReducerReportResult(macro_avg_bits_symbol=7.807743313619337, macro_avg_ratio=0.48798395710120857, micro_avg_ratio=0.42581427181829856, percentage_better_compressed=100.0, number_better_compressed=100, total_number=100, against_vbz_micro_avg_ratio=0.9679660492813374)\n"
     ]
    }
   ],
   "source": [
    "report = run_mapper_reducer(pgnmodels.DerivativeContextModel4([3,5,10,20]), signal_data)\n",
    "print(report)"
   ]
  },
  {
   "cell_type": "code",
   "execution_count": 17,
   "metadata": {},
   "outputs": [
    {
     "data": {
      "application/vnd.jupyter.widget-view+json": {
       "model_id": "83df72d5ce5f4c21a00c3d8cc88a9c9d",
       "version_major": 2,
       "version_minor": 0
      },
      "text/plain": [
       "  0%|          | 0/100 [00:00<?, ?it/s]"
      ]
     },
     "metadata": {},
     "output_type": "display_data"
    },
    {
     "name": "stdout",
     "output_type": "stream",
     "text": [
      "ReducerReportResult(macro_avg_bits_symbol=8.014552966917378, macro_avg_ratio=0.5009095604323361, micro_avg_ratio=0.427758339619675, percentage_better_compressed=100.0, number_better_compressed=100, total_number=100, against_vbz_micro_avg_ratio=0.9723853272477565)\n"
     ]
    }
   ],
   "source": [
    "report = run_mapper_reducer(pgnmodels.DerivativeContextModel4([1,2,3,5,10,20,30]), signal_data)\n",
    "print(report)"
   ]
  },
  {
   "cell_type": "code",
   "execution_count": 18,
   "metadata": {},
   "outputs": [
    {
     "name": "stdout",
     "output_type": "stream",
     "text": [
      "                     params  bits/symbol\n",
      "0                       [1]     7.389657\n",
      "1                       [2]     7.414124\n",
      "2                       [3]     7.430518\n",
      "3                       [5]     7.450263\n",
      "4                      [10]     7.465967\n",
      "5                [3, 5, 10]     7.672123\n",
      "6                 [1, 2, 3]     7.536657\n",
      "7            [3, 5, 10, 20]     7.807743\n",
      "8  [1, 2, 3, 5, 10, 20, 30]     8.014553\n"
     ]
    }
   ],
   "source": [
    "res = linear_parameter_search([\n",
    "    [1],\n",
    "    [2],\n",
    "    [3],\n",
    "    [5],\n",
    "    [10],\n",
    "    [3,5,10],\n",
    "    [1,2,3],\n",
    "    [3,5,10,20],\n",
    "    [1,2,3,5,10,20,30]\n",
    "], signal_data)\n",
    "print(res)"
   ]
  },
  {
   "cell_type": "code",
   "execution_count": 19,
   "metadata": {},
   "outputs": [
    {
     "data": {
      "application/vnd.jupyter.widget-view+json": {
       "model_id": "4d90a552792046c89fe6eea7310b8a76",
       "version_major": 2,
       "version_minor": 0
      },
      "text/plain": [
       "  0%|          | 0/100 [00:00<?, ?it/s]"
      ]
     },
     "metadata": {},
     "output_type": "display_data"
    },
    {
     "name": "stdout",
     "output_type": "stream",
     "text": [
      "ReducerReportResult(macro_avg_bits_symbol=9.08130846108535, macro_avg_ratio=0.5675817788178343, micro_avg_ratio=0.5468585466175738, percentage_better_compressed=100.0, number_better_compressed=100, total_number=100, against_vbz_micro_avg_ratio=1.2431253293243885)\n"
     ]
    }
   ],
   "source": [
    "report = run_mapper_reducer(pgnmodels.RunCodingModel(), signal_data)\n",
    "print(report)"
   ]
  },
  {
   "cell_type": "code",
   "execution_count": 20,
   "metadata": {},
   "outputs": [
    {
     "data": {
      "application/vnd.jupyter.widget-view+json": {
       "model_id": "d9da0df3638b413ea95ad6ca7a94b487",
       "version_major": 2,
       "version_minor": 0
      },
      "text/plain": [
       "  0%|          | 0/100 [00:00<?, ?it/s]"
      ]
     },
     "metadata": {},
     "output_type": "display_data"
    },
    {
     "name": "stdout",
     "output_type": "stream",
     "text": [
      "ReducerReportResult(macro_avg_bits_symbol=6.858140627205086, macro_avg_ratio=0.42863378920031786, micro_avg_ratio=0.4199300066560605, percentage_better_compressed=100.0, number_better_compressed=100, total_number=100, against_vbz_micro_avg_ratio=0.9722241390200898)\n"
     ]
    }
   ],
   "source": [
    "report = run_mapper_reducer(pgnmodels.CppModel(), chunked_data)\n",
    "#print(len(list(filter(lambda x: x.compression_ratio > 1, res))))\n",
    "print(report)"
   ]
  },
  {
   "cell_type": "code",
   "execution_count": 21,
   "metadata": {},
   "outputs": [
    {
     "data": {
      "application/vnd.jupyter.widget-view+json": {
       "model_id": "5213bc14cf30421a82e740e7ee5dfa2f",
       "version_major": 2,
       "version_minor": 0
      },
      "text/plain": [
       "  0%|          | 0/100 [00:00<?, ?it/s]"
      ]
     },
     "metadata": {},
     "output_type": "display_data"
    },
    {
     "name": "stdout",
     "output_type": "stream",
     "text": [
      "0\n"
     ]
    },
    {
     "ename": "TypeError",
     "evalue": "ReducerReportResult.__new__() missing 1 required positional argument: 'macro_avg_bits_symbol'",
     "output_type": "error",
     "traceback": [
      "\u001b[0;31m---------------------------------------------------------------------------\u001b[0m",
      "\u001b[0;31mTypeError\u001b[0m                                 Traceback (most recent call last)",
      "\u001b[1;32m/data/pgnanoraw/pod5_fork/src/python/pgnano/stats_analysis/notebooks/stats_analysis.ipynb Cell 21\u001b[0m line \u001b[0;36m1\n\u001b[1;32m     <a href='vscode-notebook-cell://ssh-remote%2Blnano.fing.edu.uy/data/pgnanoraw/pod5_fork/src/python/pgnano/stats_analysis/notebooks/stats_analysis.ipynb#X26sdnNjb2RlLXJlbW90ZQ%3D%3D?line=14'>15</a>\u001b[0m     res \u001b[39m=\u001b[39m \u001b[39mlist\u001b[39m(tqdm(p\u001b[39m.\u001b[39mimap(mapper_nibble,\u001b[39menumerate\u001b[39m(signal_data)), total\u001b[39m=\u001b[39m\u001b[39mlen\u001b[39m(signal_data)))\n\u001b[1;32m     <a href='vscode-notebook-cell://ssh-remote%2Blnano.fing.edu.uy/data/pgnanoraw/pod5_fork/src/python/pgnano/stats_analysis/notebooks/stats_analysis.ipynb#X26sdnNjb2RlLXJlbW90ZQ%3D%3D?line=16'>17</a>\u001b[0m \u001b[39mprint\u001b[39m(\u001b[39mlen\u001b[39m(\u001b[39mlist\u001b[39m(\u001b[39mfilter\u001b[39m(\u001b[39mlambda\u001b[39;00m x: x\u001b[39m.\u001b[39mcompression_ratio \u001b[39m>\u001b[39m \u001b[39m1\u001b[39m, res))))\n\u001b[0;32m---> <a href='vscode-notebook-cell://ssh-remote%2Blnano.fing.edu.uy/data/pgnanoraw/pod5_fork/src/python/pgnano/stats_analysis/notebooks/stats_analysis.ipynb#X26sdnNjb2RlLXJlbW90ZQ%3D%3D?line=18'>19</a>\u001b[0m report \u001b[39m=\u001b[39m ReducerReportResult(\n\u001b[1;32m     <a href='vscode-notebook-cell://ssh-remote%2Blnano.fing.edu.uy/data/pgnanoraw/pod5_fork/src/python/pgnano/stats_analysis/notebooks/stats_analysis.ipynb#X26sdnNjb2RlLXJlbW90ZQ%3D%3D?line=19'>20</a>\u001b[0m     macro_avg_ratio\u001b[39m=\u001b[39mst\u001b[39m.\u001b[39mmean(\u001b[39mmap\u001b[39m(\u001b[39mlambda\u001b[39;00m x: x\u001b[39m.\u001b[39mcompression_ratio, res)),\n\u001b[1;32m     <a href='vscode-notebook-cell://ssh-remote%2Blnano.fing.edu.uy/data/pgnanoraw/pod5_fork/src/python/pgnano/stats_analysis/notebooks/stats_analysis.ipynb#X26sdnNjb2RlLXJlbW90ZQ%3D%3D?line=20'>21</a>\u001b[0m     micro_avg_ratio\u001b[39m=\u001b[39m (\u001b[39msum\u001b[39m(\u001b[39mmap\u001b[39m(\u001b[39mlambda\u001b[39;00m x: x\u001b[39m.\u001b[39mcode_len, res))) \u001b[39m/\u001b[39m (\u001b[39msum\u001b[39m(\u001b[39mmap\u001b[39m(\u001b[39mlambda\u001b[39;00m x: x\u001b[39m.\u001b[39muncompressed_bits, res))),\n\u001b[1;32m     <a href='vscode-notebook-cell://ssh-remote%2Blnano.fing.edu.uy/data/pgnanoraw/pod5_fork/src/python/pgnano/stats_analysis/notebooks/stats_analysis.ipynb#X26sdnNjb2RlLXJlbW90ZQ%3D%3D?line=21'>22</a>\u001b[0m     number_better_compressed\u001b[39m=\u001b[39m\u001b[39msum\u001b[39m(\u001b[39mmap\u001b[39m(\u001b[39mlambda\u001b[39;00m x: \u001b[39m1\u001b[39m \u001b[39mif\u001b[39;00m x\u001b[39m.\u001b[39mis_better_compressed \u001b[39melse\u001b[39;00m \u001b[39m0\u001b[39m, res)),\n\u001b[1;32m     <a href='vscode-notebook-cell://ssh-remote%2Blnano.fing.edu.uy/data/pgnanoraw/pod5_fork/src/python/pgnano/stats_analysis/notebooks/stats_analysis.ipynb#X26sdnNjb2RlLXJlbW90ZQ%3D%3D?line=22'>23</a>\u001b[0m     total_number\u001b[39m=\u001b[39m\u001b[39mlen\u001b[39m(res),\n\u001b[1;32m     <a href='vscode-notebook-cell://ssh-remote%2Blnano.fing.edu.uy/data/pgnanoraw/pod5_fork/src/python/pgnano/stats_analysis/notebooks/stats_analysis.ipynb#X26sdnNjb2RlLXJlbW90ZQ%3D%3D?line=23'>24</a>\u001b[0m     percentage_better_compressed\u001b[39m=\u001b[39m\u001b[39m100\u001b[39m\u001b[39m*\u001b[39m(\u001b[39msum\u001b[39m(\u001b[39mmap\u001b[39m(\u001b[39mlambda\u001b[39;00m x: \u001b[39m1\u001b[39m \u001b[39mif\u001b[39;00m x\u001b[39m.\u001b[39mis_better_compressed \u001b[39melse\u001b[39;00m \u001b[39m0\u001b[39m, res)) \u001b[39m/\u001b[39m \u001b[39mlen\u001b[39m(res)),\n\u001b[1;32m     <a href='vscode-notebook-cell://ssh-remote%2Blnano.fing.edu.uy/data/pgnanoraw/pod5_fork/src/python/pgnano/stats_analysis/notebooks/stats_analysis.ipynb#X26sdnNjb2RlLXJlbW90ZQ%3D%3D?line=24'>25</a>\u001b[0m     against_vbz_micro_avg_ratio\u001b[39m=\u001b[39m (\u001b[39msum\u001b[39m(\u001b[39mmap\u001b[39m(\u001b[39mlambda\u001b[39;00m x: x\u001b[39m.\u001b[39mcode_len, res))) \u001b[39m/\u001b[39m (\u001b[39msum\u001b[39m(\u001b[39mmap\u001b[39m(\u001b[39mlambda\u001b[39;00m x: x\u001b[39m.\u001b[39mvbz_compressed_bits, res)))\n\u001b[1;32m     <a href='vscode-notebook-cell://ssh-remote%2Blnano.fing.edu.uy/data/pgnanoraw/pod5_fork/src/python/pgnano/stats_analysis/notebooks/stats_analysis.ipynb#X26sdnNjb2RlLXJlbW90ZQ%3D%3D?line=25'>26</a>\u001b[0m )\n\u001b[1;32m     <a href='vscode-notebook-cell://ssh-remote%2Blnano.fing.edu.uy/data/pgnanoraw/pod5_fork/src/python/pgnano/stats_analysis/notebooks/stats_analysis.ipynb#X26sdnNjb2RlLXJlbW90ZQ%3D%3D?line=26'>27</a>\u001b[0m \u001b[39mprint\u001b[39m(report)\n",
      "\u001b[0;31mTypeError\u001b[0m: ReducerReportResult.__new__() missing 1 required positional argument: 'macro_avg_bits_symbol'"
     ]
    }
   ],
   "source": [
    "def mapper_nibble(x):\n",
    "    signal = x[1]\n",
    "    idx = x[0]\n",
    "    model = pgnmodels.NibbleSimpleErrorModel()\n",
    "    vbz_model = pgnmodels.VbzModel()\n",
    "    signal_length = len(signal)\n",
    "    code_len = model.get_code_lenght(signal)\n",
    "    uncompressed_bits = signal_length * 16\n",
    "    compression_ratio = code_len / uncompressed_bits\n",
    "    is_better_compressed = code_len < uncompressed_bits\n",
    "    return MapperReportResult(idx, code_len, signal_length, uncompressed_bits, compression_ratio, is_better_compressed, vbz_model.get_code_lenght(signal))\n",
    "\n",
    "\n",
    "with mp.Pool(os.cpu_count()) as p:\n",
    "    res = list(tqdm(p.imap(mapper_nibble,enumerate(signal_data)), total=len(signal_data)))\n",
    "\n",
    "print(len(list(filter(lambda x: x.compression_ratio > 1, res))))\n",
    "\n",
    "report = ReducerReportResult(\n",
    "    macro_avg_ratio=st.mean(map(lambda x: x.compression_ratio, res)),\n",
    "    micro_avg_ratio= (sum(map(lambda x: x.code_len, res))) / (sum(map(lambda x: x.uncompressed_bits, res))),\n",
    "    number_better_compressed=sum(map(lambda x: 1 if x.is_better_compressed else 0, res)),\n",
    "    total_number=len(res),\n",
    "    percentage_better_compressed=100*(sum(map(lambda x: 1 if x.is_better_compressed else 0, res)) / len(res)),\n",
    "    against_vbz_micro_avg_ratio= (sum(map(lambda x: x.code_len, res))) / (sum(map(lambda x: x.vbz_compressed_bits, res)))\n",
    ")\n",
    "print(report)"
   ]
  },
  {
   "cell_type": "code",
   "execution_count": null,
   "metadata": {},
   "outputs": [],
   "source": [
    "start=2250\n",
    "size=250\n",
    "limit=start + size\n",
    "one_signal = signal_data[0]\n",
    "prev = 0\n",
    "predicted_signal = []\n",
    "for signal in one_signal:\n",
    "    predicted_signal.append(prev)\n",
    "    prev = signal\n",
    "#plt.plot(one_signal[start:limit])\n",
    "#plt.plot(predicted_signal[start:limit])\n",
    "plt.plot(list(map(lambda x: abs(x[0] - x[1]), zip(one_signal[start:limit], predicted_signal[start:limit]))))\n"
   ]
  },
  {
   "cell_type": "code",
   "execution_count": null,
   "metadata": {},
   "outputs": [],
   "source": [
    "start=2250\n",
    "size=50\n",
    "model = SklearnModel(LinearRegression())\n",
    "one_signal = signal_data[0]\n",
    "abstract_plot(model, one_signal, start, size)"
   ]
  },
  {
   "cell_type": "code",
   "execution_count": null,
   "metadata": {},
   "outputs": [],
   "source": [
    "start=2250\n",
    "size=250\n",
    "model = SklearnModel(MLPRegressor(hidden_layer_sizes=[3,3,3], activation='relu', max_iter=2000))\n",
    "one_signal = signal_data[0]\n",
    "abstract_plot(model, one_signal, start, size)"
   ]
  },
  {
   "cell_type": "code",
   "execution_count": null,
   "metadata": {},
   "outputs": [],
   "source": [
    "mapped_signal = []\n",
    "prev_val = 0\n",
    "for x in one_signal:\n",
    "    mapped_signal.append(int(x) - prev_val)\n",
    "    prev_val = int(x)\n",
    "mapped_signal = list(map(lambda x: 2*x if x >= 0 else -2*x - 1, mapped_signal[1:250]))\n",
    "plt.plot(mapped_signal)\n",
    "print(f\"mean: {st.mean(mapped_signal)}\")\n",
    "print(f\"stddev: {st.stdev(mapped_signal)}\")"
   ]
  },
  {
   "cell_type": "code",
   "execution_count": null,
   "metadata": {},
   "outputs": [],
   "source": [
    "low_hg, high_hg = pgnprim.split_by_bytes_hg(signal_data[0])\n",
    "hg1, hg2, hg3, hg4 = pgnprim.split_by_nibbles_hg(signal_data[0])"
   ]
  },
  {
   "cell_type": "code",
   "execution_count": null,
   "metadata": {},
   "outputs": [],
   "source": [
    "low_x = low_hg.get_indexes()\n",
    "low_y = low_hg.get_data()\n",
    "\n",
    "plt.plot(low_x, low_y)"
   ]
  },
  {
   "cell_type": "code",
   "execution_count": null,
   "metadata": {},
   "outputs": [],
   "source": [
    "high_x = high_hg.get_indexes()\n",
    "high_y = high_hg.get_data()\n",
    "\n",
    "plt.plot(high_x, high_y)"
   ]
  },
  {
   "cell_type": "code",
   "execution_count": null,
   "metadata": {},
   "outputs": [],
   "source": [
    "nibble1_x = hg1.get_indexes()\n",
    "nibble1_y = hg1.get_data()\n",
    "\n",
    "plt.plot(nibble1_x, nibble1_y)"
   ]
  },
  {
   "cell_type": "code",
   "execution_count": null,
   "metadata": {},
   "outputs": [],
   "source": [
    "nibble2_x = hg2.get_indexes()\n",
    "nibble2_y = hg2.get_data()\n",
    "\n",
    "plt.plot(nibble2_x, nibble2_y)"
   ]
  },
  {
   "cell_type": "code",
   "execution_count": null,
   "metadata": {},
   "outputs": [],
   "source": [
    "nibble3_x = hg3.get_indexes()\n",
    "nibble3_y = hg3.get_data()\n",
    "\n",
    "plt.plot(nibble3_x, nibble3_y)"
   ]
  },
  {
   "cell_type": "code",
   "execution_count": null,
   "metadata": {},
   "outputs": [],
   "source": [
    "nibble4_x = hg4.get_indexes()\n",
    "nibble4_y = hg4.get_data()\n",
    "\n",
    "plt.plot(nibble4_x, nibble4_y)"
   ]
  },
  {
   "cell_type": "code",
   "execution_count": null,
   "metadata": {},
   "outputs": [],
   "source": [
    "# Estimate code lenght\n",
    "d = signal_data[:1000]\n",
    "#print(len(list(filter(lambda x: x < 1 << 12,d))))\n",
    "model = pgnprim.CppModel()\n",
    "model.get_code_lenght(d)"
   ]
  }
 ],
 "metadata": {
  "kernelspec": {
   "display_name": "pgnano",
   "language": "python",
   "name": "python3"
  },
  "language_info": {
   "codemirror_mode": {
    "name": "ipython",
    "version": 3
   },
   "file_extension": ".py",
   "mimetype": "text/x-python",
   "name": "python",
   "nbconvert_exporter": "python",
   "pygments_lexer": "ipython3",
   "version": "3.11.4"
  },
  "orig_nbformat": 4
 },
 "nbformat": 4,
 "nbformat_minor": 2
}
