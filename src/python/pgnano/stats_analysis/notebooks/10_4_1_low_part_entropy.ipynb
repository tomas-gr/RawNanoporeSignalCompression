{
 "cells": [
  {
   "cell_type": "code",
   "execution_count": 1,
   "metadata": {},
   "outputs": [],
   "source": [
    "from pgnano.stats_analysis.primitives import PGPoreType\n",
    "from pgnano.stats_analysis.jupyter_data_preparation import flatten_sample_data\n",
    "from functools import partial\n",
    "from pgnano.stats_analysis.coding_analysis_scripts import *\n",
    "from scipy.stats import geom, halfnorm\n",
    "from scipy.linalg import lstsq\n",
    "from scipy.fft import fft\n",
    "from inspect import signature\n",
    "import numpy as np\n",
    "import numpy.typing as npt\n",
    "import matplotlib.pyplot as plt\n",
    "import statistics"
   ]
  },
  {
   "cell_type": "code",
   "execution_count": 2,
   "metadata": {},
   "outputs": [
    {
     "name": "stdout",
     "output_type": "stream",
     "text": [
      "['/data/datananoraw/data_analysis/10_4_1/2d6ce589-PAG70058_pass_90cff557_229fb1c2_1643.pod5', '/data/datananoraw/data_analysis/10_4_1/58662236-PAG70133_pass_976dfe21_5dadfada_5.pod5', '/data/datananoraw/data_analysis/10_4_1/679e8449-PAG70058_pass_90cff557_229fb1c2_1581.pod5', '/data/datananoraw/data_analysis/10_4_1/7646a9e4-PAG65784_pass_f306681d_16a70748_508.pod5', '/data/datananoraw/data_analysis/10_4_1/889add85-PAG67404_fail_a8a15ce6_4a74c11f_28.pod5', '/data/datananoraw/data_analysis/10_4_1/898fa111-PAG68757_fail_39c39833_26077d5d_167.pod5', '/data/datananoraw/data_analysis/10_4_1/8ba56eeb-PAG65784_pass_f306681d_16a70748_1319.pod5', '/data/datananoraw/data_analysis/10_4_1/a60ded57-PAG65902_pass_96491aed_0156c9a3_1335.pod5', '/data/datananoraw/data_analysis/10_4_1/a7ff4244-PAG68757_pass_39c39833_26077d5d_944.pod5', '/data/datananoraw/data_analysis/10_4_1/af5d6be7-PAG70133_pass_976dfe21_5dadfada_1065.pod5', '/data/datananoraw/data_analysis/10_4_1/c2f433b8-PAG65902_fail_96491aed_0156c9a3_285.pod5', '/data/datananoraw/data_analysis/10_4_1/c82ed1c7-PAG65902_pass_96491aed_0156c9a3_1181.pod5', '/data/datananoraw/data_analysis/10_4_1/d7190107-PAG65902_pass_96491aed_0156c9a3_1138.pod5', '/data/datananoraw/data_analysis/10_4_1/f02f14e8-PAG67404_pass_a8a15ce6_4a74c11f_992.pod5', '/data/datananoraw/data_analysis/10_4_1/f8c2119e-PAG65784_pass_f306681d_16a70748_1327.pod5']\n",
      "[('/data/datananoraw/data_analysis/10_4_1/d7190107-PAG65902_pass_96491aed_0156c9a3_1138.pod5', 119782712), ('/data/datananoraw/data_analysis/10_4_1/af5d6be7-PAG70133_pass_976dfe21_5dadfada_1065.pod5', 186447520), ('/data/datananoraw/data_analysis/10_4_1/8ba56eeb-PAG65784_pass_f306681d_16a70748_1319.pod5', 252533552), ('/data/datananoraw/data_analysis/10_4_1/2d6ce589-PAG70058_pass_90cff557_229fb1c2_1643.pod5', 448674424), ('/data/datananoraw/data_analysis/10_4_1/c82ed1c7-PAG65902_pass_96491aed_0156c9a3_1181.pod5', 461132536), ('/data/datananoraw/data_analysis/10_4_1/a7ff4244-PAG68757_pass_39c39833_26077d5d_944.pod5', 657792792), ('/data/datananoraw/data_analysis/10_4_1/679e8449-PAG70058_pass_90cff557_229fb1c2_1581.pod5', 678635904), ('/data/datananoraw/data_analysis/10_4_1/f8c2119e-PAG65784_pass_f306681d_16a70748_1327.pod5', 805471656), ('/data/datananoraw/data_analysis/10_4_1/58662236-PAG70133_pass_976dfe21_5dadfada_5.pod5', 923506952), ('/data/datananoraw/data_analysis/10_4_1/a60ded57-PAG65902_pass_96491aed_0156c9a3_1335.pod5', 1039980640), ('/data/datananoraw/data_analysis/10_4_1/898fa111-PAG68757_fail_39c39833_26077d5d_167.pod5', 1105195664), ('/data/datananoraw/data_analysis/10_4_1/889add85-PAG67404_fail_a8a15ce6_4a74c11f_28.pod5', 1228990584), ('/data/datananoraw/data_analysis/10_4_1/c2f433b8-PAG65902_fail_96491aed_0156c9a3_285.pod5', 1377777384), ('/data/datananoraw/data_analysis/10_4_1/f02f14e8-PAG67404_pass_a8a15ce6_4a74c11f_992.pod5', 1515608144), ('/data/datananoraw/data_analysis/10_4_1/7646a9e4-PAG65784_pass_f306681d_16a70748_508.pod5', 1594685488)]\n"
     ]
    }
   ],
   "source": [
    "signal_data, chunk_data = flatten_sample_data(PGPoreType.P10_4_1,100)\n",
    "one_signal = signal_data[0]\n",
    "error = transform_signal_to_error(one_signal)\n",
    "code = transform_error_to_code(error)\n",
    "low_part = code & 0x1F"
   ]
  },
  {
   "cell_type": "code",
   "execution_count": 3,
   "metadata": {},
   "outputs": [],
   "source": [
    "def add_previous_sample(xs: np.ndarray) -> Tuple[np.ndarray, np.ndarray]:\n",
    "    previous = np.append([0], xs[:-1])\n",
    "    return (xs, previous)"
   ]
  },
  {
   "cell_type": "code",
   "execution_count": 4,
   "metadata": {},
   "outputs": [],
   "source": [
    "def unwrap_ctxs(o) -> np.ndarray:\n",
    "    ctxs, idxs, positions = o\n",
    "    return ctxs"
   ]
  },
  {
   "cell_type": "code",
   "execution_count": 5,
   "metadata": {},
   "outputs": [],
   "source": [
    "def adaptive_probability_length_estimate(xs: np.ndarray):\n",
    "    prob = np.ones(len(np.bincount(xs)))\n",
    "    count = len(prob)\n",
    "    code_len_low_estimate = 0\n",
    "    for x in xs:\n",
    "        code_len_low_estimate -= np.log2(prob[x] / count)\n",
    "        prob[x] += 1\n",
    "        count += 1\n",
    "    return code_len_low_estimate"
   ]
  },
  {
   "cell_type": "code",
   "execution_count": 6,
   "metadata": {},
   "outputs": [],
   "source": [
    "def contextualize_inplace(xs, ctxs, ctxs_idxs, ctxs_positions):\n",
    "    i = 0\n",
    "    for (x, idx) in zip(xs, ctxs_idxs):\n",
    "        ctxs[idx].append(x)\n",
    "        ctxs_positions[idx].append(i)\n",
    "        i += 1\n"
   ]
  },
  {
   "cell_type": "code",
   "execution_count": 7,
   "metadata": {},
   "outputs": [],
   "source": [
    "def process_entropy_lower_bound(xss: List[np.ndarray]):\n",
    "    code_len_low_estimate = 0\n",
    "    cummulative_len = sum(map(lambda x: len(x), xss))\n",
    "    for xs in xss:\n",
    "        code_len_low_estimate += adaptive_probability_length_estimate(xs)\n",
    "    return code_len_low_estimate / cummulative_len"
   ]
  },
  {
   "cell_type": "code",
   "execution_count": 8,
   "metadata": {},
   "outputs": [],
   "source": [
    "def max_bits(x: np.unsignedinteger) -> np.unsignedinteger:\n",
    "    i = 0\n",
    "    while x / (2**i) > 0:\n",
    "        i += 1\n",
    "    return i"
   ]
  },
  {
   "cell_type": "code",
   "execution_count": 9,
   "metadata": {},
   "outputs": [],
   "source": [
    "def contextualize_even_odd_previous(xs: np.ndarray) -> Tuple[np.ndarray, np.ndarray]:\n",
    "    _, previous = add_previous_sample(xs)\n",
    "    ctxs = [[], []]\n",
    "    ctxs_positions = [[], []]\n",
    "    ctxs_idxs = previous & 0x1\n",
    "    contextualize_inplace(xs, ctxs, ctxs_idxs, ctxs_positions)\n",
    "    return ctxs, ctxs_idxs, ctxs_positions"
   ]
  },
  {
   "cell_type": "code",
   "execution_count": 10,
   "metadata": {},
   "outputs": [],
   "source": [
    "def contextualize_by_derivative_absolute_value(xs: np.ndarray) -> List[np.ndarray]:\n",
    "    _, prev = add_previous_sample(xs)#np.concatenate([0], xs[:-1])\n",
    "    _, prev_prev = add_previous_sample(prev)\n",
    "    deriv = prev - prev_prev\n",
    "    f = np.vectorize(lambda x: 0 if abs(x) > 7 else 1)\n",
    "    ctxs_idxs = f(deriv)\n",
    "    ctxs = [[],[]]\n",
    "    ctxs_positions = [[], []]\n",
    "    contextualize_inplace(xs, ctxs, ctxs_idxs, ctxs_positions)\n",
    "    return ctxs, ctxs_idxs, ctxs_positions"
   ]
  },
  {
   "cell_type": "code",
   "execution_count": 11,
   "metadata": {},
   "outputs": [],
   "source": [
    "def contextualize_by_derivative_sign(xs: np.ndarray) -> List[np.ndarray]:\n",
    "    _, prev = add_previous_sample(xs)\n",
    "    _, prev_prev = add_previous_sample(prev)\n",
    "    deriv = prev - prev_prev\n",
    "    f = np.vectorize(lambda x: 0 if x > 0 else 1)\n",
    "    ctxs_idxs = f(deriv)\n",
    "    ctxs = [[],[]]\n",
    "    ctxs_positions = [[], []]\n",
    "    contextualize_inplace(xs, ctxs, ctxs_idxs, ctxs_positions)\n",
    "    return ctxs, ctxs_idxs, ctxs_positions"
   ]
  },
  {
   "cell_type": "code",
   "execution_count": 12,
   "metadata": {},
   "outputs": [],
   "source": [
    "def contextualize_by_rugosity(xs: np.ndarray) -> List[np.ndarray]:\n",
    "    _, xs_1 = add_previous_sample(xs)\n",
    "    _, xs_2 = add_previous_sample(xs_1)\n",
    "    _, xs_3 = add_previous_sample(xs_2)\n",
    "    der_1 = xs_1 - xs_2\n",
    "    der_2 = xs_2 - xs_3\n",
    "    contexts = [[],[],[],[]]\n",
    "    for x, d_1, d_2 in zip(xs, der_1, der_2):\n",
    "        context_idx = []"
   ]
  },
  {
   "cell_type": "code",
   "execution_count": 13,
   "metadata": {},
   "outputs": [],
   "source": [
    "def contextualize_by_signal_1(xs: np.ndarray, signal: np.ndarray) -> List[np.ndarray]:\n",
    "    signal_max = max(signal)\n",
    "    signal_min = min(signal)\n",
    "    threshold = (signal_max + signal_min) / 2\n",
    "    f = np.vectorize(lambda x: 0 if x > threshold else 1)\n",
    "    ctxs_idxs = f(add_previous_sample(signal)[1])\n",
    "    ctxs = [[], []]\n",
    "    ctxs_positions = [[], []]\n",
    "    contextualize_inplace(xs, ctxs, ctxs_idxs, ctxs_positions)\n",
    "    return ctxs, ctxs_idxs, ctxs_positions"
   ]
  },
  {
   "cell_type": "code",
   "execution_count": 14,
   "metadata": {},
   "outputs": [],
   "source": [
    "def contextualize_by_signal_2(xs: np.ndarray, signal: np.ndarray) -> List[np.ndarray]:\n",
    "    signal_max = max(signal)\n",
    "    signal_min = min(signal)\n",
    "    middle_point = (signal_max + signal_min) / 2\n",
    "    f = np.vectorize(\n",
    "        lambda x: 0 if x > (middle_point + signal_max) / 2 else\n",
    "                  1 if x > (((middle_point + signal_max) / 2) + (middle_point))/2 else\n",
    "                  2 if x > (signal_min + middle_point) / 2 else\n",
    "                  3\n",
    "    )\n",
    "    ctxs_idxs = f(add_previous_sample(signal)[1])\n",
    "    ctxs = [[], [], [], []]\n",
    "    ctxs_positions = [[], [], [], []]\n",
    "    contextualize_inplace(xs, ctxs, ctxs_idxs, ctxs_positions)\n",
    "    return ctxs, ctxs_idxs, ctxs_positions"
   ]
  },
  {
   "cell_type": "code",
   "execution_count": 15,
   "metadata": {},
   "outputs": [],
   "source": [
    "def cartesian_context(xs, f, h, signal = None) -> List[np.ndarray]:\n",
    "    def call_by_signature(f, xs, signal):\n",
    "        if len(signature(f).parameters.values()) == 1:\n",
    "            return f(xs)\n",
    "        elif len(signature(f).parameters.values()) == 2:\n",
    "            return f(xs, signal)\n",
    "        else:\n",
    "            raise \"Not recognized signature\"\n",
    "\n",
    "    ctxs_f, ctxs_idxs_f, ctxs_positions_f = call_by_signature(f, xs, signal)\n",
    "    ctxs_h, ctxs_idxs_h, ctxs_positions_h = call_by_signature(h, xs, signal)# FIXME: ctxt_idxs should actually be the index in the input array\n",
    "    \n",
    "    ctxs_res = []\n",
    "    ctxs_idxs_res = []\n",
    "    ctxs_positions_res = []\n",
    "    f_num_idxs = len(set(ctxs_idxs_f))\n",
    "    h_num_idxs = len(set(ctxs_idxs_h))\n",
    "\n",
    "    for _ in range(len(ctxs_f) * len(ctxs_h)):\n",
    "        ctxs_res.append([])\n",
    "        ctxs_positions_res.append([])\n",
    "\n",
    "    for i in range(len(xs)):\n",
    "        new_idx = f_num_idxs * ctxs_idxs_h[i] + ctxs_idxs_f[i]\n",
    "        ctxs_idxs_res.append(new_idx)\n",
    "        ctxs_idxs_f[i]\n",
    "        ctxs_f[ctxs_idxs_f[i]]\n",
    "        ctxs_res[new_idx].append(ctxs_f[ctxs_idxs_f[i]][0])\n",
    "        ctxs_f[ctxs_idxs_f[i]].pop()\n",
    "    return ctxs_res, ctxs_idxs_res, ctxs_positions_res"
   ]
  },
  {
   "cell_type": "code",
   "execution_count": 16,
   "metadata": {},
   "outputs": [
    {
     "data": {
      "text/plain": [
       "4.955913889795664"
      ]
     },
     "execution_count": 16,
     "metadata": {},
     "output_type": "execute_result"
    }
   ],
   "source": [
    "process_entropy_lower_bound([low_part])"
   ]
  },
  {
   "cell_type": "code",
   "execution_count": 17,
   "metadata": {},
   "outputs": [
    {
     "data": {
      "text/plain": [
       "4.920541600263688"
      ]
     },
     "execution_count": 17,
     "metadata": {},
     "output_type": "execute_result"
    }
   ],
   "source": [
    "process_entropy_lower_bound(unwrap_ctxs(contextualize_even_odd_previous(low_part)))"
   ]
  },
  {
   "cell_type": "code",
   "execution_count": 18,
   "metadata": {},
   "outputs": [
    {
     "data": {
      "text/plain": [
       "4.956400860293818"
      ]
     },
     "execution_count": 18,
     "metadata": {},
     "output_type": "execute_result"
    }
   ],
   "source": [
    "process_entropy_lower_bound(unwrap_ctxs(contextualize_by_derivative_absolute_value(low_part)))"
   ]
  },
  {
   "cell_type": "code",
   "execution_count": 19,
   "metadata": {},
   "outputs": [
    {
     "data": {
      "text/plain": [
       "4.956357602663067"
      ]
     },
     "execution_count": 19,
     "metadata": {},
     "output_type": "execute_result"
    }
   ],
   "source": [
    "process_entropy_lower_bound(unwrap_ctxs(contextualize_by_derivative_sign(low_part)))"
   ]
  },
  {
   "cell_type": "code",
   "execution_count": 20,
   "metadata": {},
   "outputs": [
    {
     "data": {
      "text/plain": [
       "4.955052142149329"
      ]
     },
     "execution_count": 20,
     "metadata": {},
     "output_type": "execute_result"
    }
   ],
   "source": [
    "process_entropy_lower_bound(unwrap_ctxs(contextualize_by_signal_1(low_part, one_signal)))"
   ]
  },
  {
   "cell_type": "code",
   "execution_count": 21,
   "metadata": {},
   "outputs": [
    {
     "data": {
      "text/plain": [
       "4.95064642489646"
      ]
     },
     "execution_count": 21,
     "metadata": {},
     "output_type": "execute_result"
    }
   ],
   "source": [
    "process_entropy_lower_bound(unwrap_ctxs(contextualize_by_signal_2(low_part, one_signal)))"
   ]
  },
  {
   "cell_type": "code",
   "execution_count": 22,
   "metadata": {},
   "outputs": [
    {
     "data": {
      "text/plain": [
       "0.004342823560820523"
      ]
     },
     "execution_count": 22,
     "metadata": {},
     "output_type": "execute_result"
    }
   ],
   "source": [
    "process_entropy_lower_bound(unwrap_ctxs(cartesian_context(low_part,contextualize_by_signal_2,contextualize_even_odd_previous,one_signal)))"
   ]
  }
 ],
 "metadata": {
  "kernelspec": {
   "display_name": "pgnano",
   "language": "python",
   "name": "python3"
  },
  "language_info": {
   "codemirror_mode": {
    "name": "ipython",
    "version": 3
   },
   "file_extension": ".py",
   "mimetype": "text/x-python",
   "name": "python",
   "nbconvert_exporter": "python",
   "pygments_lexer": "ipython3",
   "version": "3.11.4"
  },
  "orig_nbformat": 4
 },
 "nbformat": 4,
 "nbformat_minor": 2
}
